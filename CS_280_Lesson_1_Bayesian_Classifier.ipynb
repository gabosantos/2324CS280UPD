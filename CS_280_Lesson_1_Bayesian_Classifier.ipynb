{
  "nbformat": 4,
  "nbformat_minor": 0,
  "metadata": {
    "colab": {
      "provenance": [],
      "toc_visible": true,
      "include_colab_link": true
    },
    "kernelspec": {
      "name": "python3",
      "display_name": "Python 3"
    },
    "language_info": {
      "name": "python"
    }
  },
  "cells": [
    {
      "cell_type": "markdown",
      "metadata": {
        "id": "view-in-github",
        "colab_type": "text"
      },
      "source": [
        "<a href=\"https://colab.research.google.com/github/gabosantos/2324CS280UPD/blob/main/CS_280_Lesson_1_Bayesian_Classifier.ipynb\" target=\"_parent\"><img src=\"https://colab.research.google.com/assets/colab-badge.svg\" alt=\"Open In Colab\"/></a>"
      ]
    },
    {
      "cell_type": "markdown",
      "source": [
        "# Overview\n",
        "In this lesson you will learn:\n",
        "* What is the fundamental definition of AI\n",
        "* What are the applications and types of machine learning\n",
        "* How to model uncertainty using Naive Bayes\n"
      ],
      "metadata": {
        "id": "2yEr_Uiribdv"
      }
    },
    {
      "cell_type": "markdown",
      "source": [
        "# Concepts"
      ],
      "metadata": {
        "id": "UIY84Sgcirvj"
      }
    },
    {
      "cell_type": "markdown",
      "source": [
        "## A. Artificial Intelligence\n",
        "\n",
        "<font color=\"#9980FA\">Artificial intelligence</font> is the machine's ability to <font color=\"#9980FA\">perform tasks that require any form of intelligence</font>—human or otherwise."
      ],
      "metadata": {
        "id": "JMtsVU74jK6v"
      }
    },
    {
      "cell_type": "markdown",
      "source": [
        "### Approaches to AI\n",
        "\n",
        "There are four main approaches to AI."
      ],
      "metadata": {
        "id": "NesyZI1ah2pw"
      }
    },
    {
      "cell_type": "markdown",
      "source": [
        "The <font color=\"#9980FA\">Acting Humanly or Turing Test approach</font> aims to develop AI that can mimic human behavior. For an AI to pass a Turing Test, it should be able to engage in a conversation so that a human cannot reliably distinguish whether they are communicating with a machine or another person. This feat can be achieved using natural language processing (NLP), knowledge representation, automated reasoning, and machine learning. For a Total Turing Test, computer vision, speech recognition, and robotics might be necessary to incorporate into the AI.\n",
        "\n",
        "Try this: [Cleverbot](https://www.cleverbot.com/)\n",
        "\n",
        "\n",
        "<table width=\"100%\"><tr><td align=\"center\" bgcolor=\"white\"><img src=\"https://drive.google.com/uc?export=view&id=1s0dbQnetj61IBDWAv4r_T53SCOZWWa4C\" height=\"360\"/></td></tr></table>"
      ],
      "metadata": {
        "id": "o_YXJXuhshLT"
      }
    },
    {
      "cell_type": "markdown",
      "source": [
        "The <font color=\"#9980FA\">Thinking Humanly or Cognitive Modeling approach</font> focuses more on making an AI that simulates the human thought process. This approach touches on neuroscience and psychology, which study human thoughts through introspection, psychological experiments, and brain imaging. Cognitive science is a relatively young field that combines all  \"disciplines of the brain,\" including computer models from AI.\n",
        "\n",
        "Try this: [Akinator](https://en.akinator.com/game)\n",
        "\n",
        "<table width=\"100%\"><tr><td align=\"center\" bgcolor=\"white\"><img src=\"https://drive.google.com/uc?export=view&id=1_C6AIo1dJIvR8eZfPBCdTErIOzp3K0zd\" height=\"360\"/></td></tr></table>"
      ],
      "metadata": {
        "id": "De-VPbHrV4pf"
      }
    },
    {
      "cell_type": "markdown",
      "source": [
        "The <font color=\"#9980FA\">Thinking Rationally or Laws of Thought approach</font> attempts a more universal approach to modeling the operations of the mind. Logicism is the belief that all human reasoning and thought processes can be reduced to and explained by formal logic, which follows established rules and principles (e.g., syllogisms). This approach assumes that humans fundamentally think rationally and logically, and seeks to capture and replicate these logical processes in AI systems. However, given the uncertainties and limitless possibilities in real life, rational thinking may be challenging in practical situations.\n",
        "\n",
        "Try this: [Symbolab](https://www.symbolab.com/)\n",
        "\n",
        "<table width=\"100%\"><tr><td align=\"center\" bgcolor=\"white\"><img src=\"https://drive.google.com/uc?export=view&id=1zMTQ3ZpVHffgbfl8zK-RyPbWULKQ-zTt\" height=\"360\"/></td></tr></table>\n",
        "\n"
      ],
      "metadata": {
        "id": "VafXtUskV4eB"
      }
    },
    {
      "cell_type": "markdown",
      "source": [
        "\n",
        "The <font color=\"#9980FA\">Acting Rationally or Rational Agent approach</font> tackles the practical challenge with the Thinking Rationally approach. This perspective prioritizes AI systems that can make decisions and take actions that maximize their chances of achieving their goals effectively and efficiently. Rational behavior requires rational thinking, but the converse is not always true. In some instances, humans rely on quick and innate reflexes, like when touching a hot surface or hearing a speeding vehicle. These automatic reactions occur spontaneously and are not always guided by deliberate, rational thought processes.\n",
        "\n",
        "Try this: [Google Search](https://blog.google/products/search/25-biggest-google-search-updates/)\n",
        "\n",
        "<table width=\"100%\"><tr><td align=\"center\" bgcolor=\"white\"><img src=\"https://drive.google.com/uc?export=view&id=1S228xWinBYtIfXzIJp8WxcQzczkz91x4\" height=\"360\"/></td></tr></table>\n",
        "\n",
        "The Rational Agent approach also requires skills from the other two approaches. Many instances of rational behavior in the world are exemplified by actions akin to how humans act (Acting Humanly) and are guided by cognitive processes similar to human thinking (Thinking Humanly). Nevertheless, there are also instances where rational behaviors can be inspired by non-human actors (e.g., intelligent animals or automated systems), highlighting the versatility of this approach.\n",
        "\n"
      ],
      "metadata": {
        "id": "FdcXIEjAV4TQ"
      }
    },
    {
      "cell_type": "markdown",
      "source": [
        "### Foundational Disciplines\n",
        "AI is a multidisciplinary field that draws upon and integrates various disciplines to develop intelligent systems capable of mimicking human-like or rational functions."
      ],
      "metadata": {
        "id": "9p-aiPnLh8Pa"
      }
    },
    {
      "cell_type": "markdown",
      "source": [
        "<font color=\"#9980FA\">Philosophy</font> delves into fundamental questions about the nature of intelligence and consciousness. It also grounds us to the ethical implications of creating machines with the ability to reason. One notable concept is the notion of utility (from utilitarianism).\n",
        "\n",
        "In AI, utility measures the desirability or goodness of an outcome or decision. AI systems often employ utility functions to make choices that maximize desirable outcomes, reflecting the utilitarian idea of maximizing overall happiness or well-being.\n",
        "\n",
        "Additionally, the concept of \"consequences\" in AI aligns with philosophical considerations surrounding ethics and morality. Philosophers have long explored the moral implications of actions and their consequences. In AI ethics, understanding the potential consequences of algorithmic decisions is crucial. For example, AI developers should examine the impact of automated systems on society, considering potential biases, discrimination, and unintended outcomes.\n",
        "\n",
        "<br><table width=\"100%\"><tr><td align=\"center\" bgcolor=\"white\"><img src=\"https://drive.google.com/uc?export=view&id=1RKN-wVzbWpY0fpeJ5eUNrfF1NzS1Yugb\" height=\"360\"/></td></tr></table>\n",
        "<center><small>From datasciencecentral.com</small></center>\n"
      ],
      "metadata": {
        "id": "n7tbVxtEktDj"
      }
    },
    {
      "cell_type": "markdown",
      "source": [
        "<font color=\"#9980FA\">Math</font> is at the core of AI (and computer science in general), serving as the fundamental framework for formulating complex models and algorithms. Fields of mathematics such as linear algebra, calculus, probability theory, and statistics provide the foundational tools for modeling data, learning patterns, and making informed decisions in AI systems.\n",
        "\n",
        "Linear algebra, for instance, is indispensable for representing and manipulating data in multi-dimensional spaces, while calculus plays a vital role in optimization algorithms. Probability theory and statistics enable AI to make predictions, estimate uncertainties, and perform data-driven inference.\n",
        "\n",
        "Additionally, advanced mathematical concepts like differential equations and graph theory are employed in specialized AI applications, further emphasizing the deep connection between mathematics and AI.\n",
        "\n",
        "<br><table width=\"100%\"><tr><td align=\"center\" bgcolor=\"white\"><img src=\"https://drive.google.com/uc?export=view&id=11a45VV1wco1sKuW5CptH6F7RaawWoL9y\" height=\"360\"/></td></tr></table>\n",
        "<center><small>From Shafi @medium.com</small></center>"
      ],
      "metadata": {
        "id": "EpjQR0aJks6G"
      }
    },
    {
      "cell_type": "markdown",
      "source": [
        "AI is also inspired by <font color=\"#9980FA\">economics</font>, particularly in the way it models decision-making and resource allocation. Concepts from economics, such as utility theory and game theory, have a significant influence on AI.\n",
        "\n",
        "Utility theory, for example, is used to represent and quantify preferences and values in AI systems, helping them make choices that maximize expected benefits or outcomes (similar to philosophy).\n",
        "\n",
        "Game theory, on the other hand, is employed in scenarios where multiple agents or entities interact strategically, mirroring real-world situations like negotiation, competition, and cooperation.\n",
        "\n",
        "Furthermore, economic principles guide AI in optimizing resource allocation, as seen in the allocation of computational resources, energy, or bandwidth in distributed systems. AI systems often use economic models to allocate resources efficiently, balancing cost and performance.\n",
        "\n",
        "<br><table width=\"100%\"><tr><td align=\"center\" bgcolor=\"white\"><img src=\"https://drive.google.com/uc?export=view&id=1qMbt36V4itLPoQJLIdv16YwDlex8N4pE\" height=\"360\"/></td></tr></table>\n",
        "<center><small>From codertime.org</small></center>"
      ],
      "metadata": {
        "id": "6Mvzkxqvksxz"
      }
    },
    {
      "cell_type": "markdown",
      "source": [
        "<font color=\"#9980FA\">Neuroscience</font> and psychology play pivotal roles in shaping the development and understanding of AI. From the perspective of neuroscience, AI draws inspiration from the structure and function of the human brain. Artificial neural networks, for instance, are computational models directly inspired by the neural connections and information-processing mechanisms in the brain.\n",
        "\n",
        "<font color=\"#9980FA\">Psychology</font> contributes by helping AI systems better understand and mimic human behavior and cognition. Cognitive psychology, in particular, provides insights into how humans perceive, learn, and reason, which has influenced the design of intelligent algorithms. For example, cognitive psychology informs the development of recommendation systems, chatbots, and virtual assistants that aim to interact with users in a way that feels natural and empathetic.\n",
        "\n",
        "<br><table width=\"100%\"><tr><td align=\"center\" bgcolor=\"white\"><img src=\"https://drive.google.com/uc?export=view&id=1wJ5oUQ1Q8NvPWy-s1ZHCHIKWGu2kUAQu\" height=\"360\"/></td></tr></table>\n",
        "<center><small>From Naveen @nomidl.com</small></center>"
      ],
      "metadata": {
        "id": "ymcRLHYXksnS"
      }
    },
    {
      "cell_type": "markdown",
      "source": [
        "Several other fields have influenced the development of AI. <font color=\"#9980FA\">Computer engineering</font> provides the essential hardware infrastructure needed for computationally heavy AI training. <font color=\"#9980FA\">Control theory</font> enables autonomous decision-making in robotics and automation, while <font color=\"#9980FA\">cybernetics</font> contributes concepts related to self-regulation and feedback loops. <font color=\"#9980FA\">Linguistics</font> contributes to natural language understanding and processing in AI, allowing for effective human-computer communication.\n",
        "\n",
        "Together, these disciplines synergize to form the foundation of AI, facilitating the development of intelligent systems capable of learning, reasoning, and adapting in complex environments.\n",
        "\n",
        "<br><table width=\"100%\"><tr><td align=\"center\" bgcolor=\"white\"><img src=\"https://drive.google.com/uc?export=view&id=1IJoUShIUeckeKPLvMBebCzheOJE9KIL_\" height=\"360\"/></td></tr></table>\n",
        "<center><small>From wikimedia.org</small></center>"
      ],
      "metadata": {
        "id": "K80x6R2sksba"
      }
    },
    {
      "cell_type": "markdown",
      "source": [
        "## B. Machine Learning\n",
        "\n",
        "<font color=\"#9980FA\">Machine learning</font> is the science (and art) of teaching computers to <font color=\"#9980FA\">learn from data</font> without explicitly programming them.\n",
        "\n",
        "<br><table width=\"100%\"><tr><td align=\"center\" bgcolor=\"white\"><img src=\"https://drive.google.com/uc?export=view&id=1BoM4v_3vVuJSD7LudLCtOuU2cMaSawZ2\" height=\"360\"/></td></tr></table>\n",
        "<center><small>From r/programmerhumor</small></center>"
      ],
      "metadata": {
        "id": "kZ3QkLSGdiMq"
      }
    },
    {
      "cell_type": "markdown",
      "source": [
        "### ML Applications\n",
        "Some example applications of machine learning include <font color=\"#9980FA\">image recognition</font>, where machine learning models can classify and identify objects within images, enabling applications like facial recognition, content moderation, and autonomous vehicles' perception systems.\n",
        "\n",
        "In <font color=\"#9980FA\">natural language processing</font>, machine learning algorithms analyze and understand human language, enabling chatbots, language translation, sentiment analysis, and voice assistants like Siri and Alexa.\n",
        "\n",
        "Machine learning also powers <font color=\"#9980FA\">recommendation systems</font> used by platforms like Netflix and Amazon to suggest movies, products, or content tailored to individual preferences.\n",
        "\n",
        "In <font color=\"#9980FA\">healthcare</font>, machine learning aids in medical image analysis, disease prediction, and drug discovery. These diverse applications highlight the versatility of machine learning in solving complex problems and making data-driven decisions across various domains.\n",
        "\n",
        "<br><table width=\"100%\"><tr><td align=\"center\" bgcolor=\"white\"><img src=\"https://drive.google.com/uc?export=view&id=1CHqQzRjR5pQ78KA281tIBUZ-kX1CDUha\" height=\"360\"/></td></tr></table>\n",
        "<center><small>From Abdul Rahid</small></center>"
      ],
      "metadata": {
        "id": "JvmycI9gvFa3"
      }
    },
    {
      "cell_type": "markdown",
      "source": [
        "### Learning Systems\n",
        "Machine learning can be broadly categorized into three main types: supervised learning, unsupervised learning, and reinforcement learning, each with distinct approaches and applications.\n"
      ],
      "metadata": {
        "id": "niwB1UfZvFGv"
      }
    },
    {
      "cell_type": "markdown",
      "source": [
        "In <font color=\"#9980FA\">supervised learning</font>, the algorithm learns from labeled data, where input data is paired with corresponding output labels. The goal is to predict the correct label or outcome for new, unseen data based on patterns and relationships learned from the training data.\n",
        "\n",
        "> *In ML, we call input variables as <font color=\"#9980FA\">features/predictors</font>, and output variables as <font color=\"#9980FA\">target/predictions</font>.*\n",
        "\n",
        "Supervised learning is commonly used in tasks such as image classification, spam email detection, and language translation. It is well-suited for problems where there is a clear distinction between input and output and abundant labeled training data is available."
      ],
      "metadata": {
        "id": "ADGZNACyvEkf"
      }
    },
    {
      "cell_type": "markdown",
      "source": [
        "<font color=\"#9980FA\">Unsupervised learning</font> operates on unlabeled data, seeking to discover patterns, structures, or relationships within the data itself. It doesn't rely on predefined output labels but rather identifies inherent structures or clusters. Examples include clustering similar documents, segmenting customer groups, and reducing data dimensionality.\n",
        "\n",
        "Unsupervised learning is valuable when dealing with large datasets and can unveil hidden insights and patterns that may not be apparent through human observation alone."
      ],
      "metadata": {
        "id": "zQGI7ESrvEam"
      }
    },
    {
      "cell_type": "markdown",
      "source": [
        "<font color=\"#9980FA\">Reinforcement learning</font> is centered around agents that interact with an environment to achieve specific goals. The agent takes action and receives feedback in the form of rewards or penalties based on its decisions. Over time, the agent learns to optimize its actions to maximize cumulative rewards.\n",
        "\n",
        "Applications of reinforcement learning include game-playing algorithms (e.g., AlphaGo), robotics control, autonomous navigation, and recommendation systems that adapt to user preferences. Reinforcement learning is particularly powerful in situations where the optimal action may not be immediately clear, and the agent must explore and learn from trial and error.\n",
        "\n",
        "<br><table width=\"100%\"><tr><td align=\"center\" bgcolor=\"white\"><img src=\"https://drive.google.com/uc?export=view&id=1T9D7Q4zHs1X_HGWUJ6hkUYX5kX9zlhYe\" height=\"360\"/></td></tr></table>\n",
        "<center><small>From Mathworks</small></center>"
      ],
      "metadata": {
        "id": "CEeBmr0HvPuZ"
      }
    },
    {
      "cell_type": "markdown",
      "source": [
        "## C. Uncertainty and Naive Bayes\n",
        "\n",
        "An indicator of intelligence lies in the capacity to <font color=\"#9980FA\">make decisions amidst uncertainties</font> and effectively adapt to changes in the environment. In problem-solving AI systems, dealing with uncertainties involves keeping track of various possible scenarios (belief states) and creating plans for each of them. However, this can become computationally intensive because the number of scenarios can grow rapidly. To address this challenge, we can employ <font color=\"#9980FA\">probabilistic modeling techniques</font> like Bayesian inference.\n",
        "\n",
        "> *When faced with uncertainties, the <font color=\"#9980FA\">rational decision</font> depends on the relative importance of various goals and the likelihood that they will be achieved.* [AIMA]\n",
        "\n",
        "<br><table width=\"100%\"><tr><td align=\"center\" bgcolor=\"white\"><img src=\"https://drive.google.com/uc?export=view&id=1NMVVXDtrIz9pBmPzMZeRuEhg2B6hwoEK\" height=\"360\"/></td></tr></table>\n",
        "<center><small>From brainkart.com</small></center>"
      ],
      "metadata": {
        "id": "WV2rH7nodnQE"
      }
    },
    {
      "cell_type": "markdown",
      "source": [
        "### Bayesian Inference\n",
        "\n",
        "<font color=\"#9980FA\">Bayesian inference</font> is one of the most common statistical techniques in probabilistic AI that involves updating beliefs or probabilities based on new evidence or data.\n",
        "\n",
        "To learn more about how Bayesian Inference works, visit this interactive lesson on Brown University: \\[[webpage](https://seeing-theory.brown.edu/bayesian-inference/index.html)\\]\n",
        "\n",
        "<br><table width=\"100%\"><tr><td align=\"center\" bgcolor=\"white\"><img src=\"https://drive.google.com/uc?export=view&id=1er3gOwdiXaXyWsErtkxT_qsrCUdQk__F\" height=\"360\"/></td></tr></table>\n",
        "<center><small>From Brown Univeristy</small></center>"
      ],
      "metadata": {
        "id": "w2HKZxdT8DP_"
      }
    },
    {
      "cell_type": "markdown",
      "source": [
        "### Naive Bayes Classifier\n",
        "\n",
        "We can expand Bayesian inference to include additional features. For instance, consider a scenario where a patient presents a range of symptoms, and our objective is to predict the disease they are most likely to be afflicted by.\n",
        "\n",
        "<br>\n",
        "Let $D_k$ be the disease class, $S$ be the set of symptoms. The <font color=\"#9980FA\">Naive Bayes model</font> can be formulated as:\n",
        "\n",
        "<br>\n",
        "\\begin{equation}\n",
        "\\begin{split}\n",
        "P(D_k, S) &= P(D_k) \\prod_i{P(S_i|D_k)} \\\\\n",
        "&= P(D_k) \\cdot P(S_1|D_k) \\ldots P(S_n|D_k)  \n",
        "\\end{split}\n",
        "\\end{equation}\n",
        "\n",
        "<br>\n",
        "\n",
        "We call it \"naive\" because we treat the features as if they are independent of each other, which is a convenient yet simplistic assumption. Although this assumption may not hold true in many real-world scenarios where features are correlated or dependent on each other, Naive Bayes can perform surprisingly well in various classification tasks.\n",
        "\n",
        "<br>\n",
        "\n",
        "To use Naive Bayes for classification:\n",
        "\n",
        "<br>\n",
        "\\begin{equation}\n",
        "P(D_k|S) = \\frac{P(S_1, S_2, S_3, \\ldots, y | D_k) \\cdot P(D_k)}{P(S_1, S_2, S_3, \\ldots, y)}\n",
        "\\end{equation}\n",
        "\n",
        "<br>\n",
        "\n",
        "where the marginal probability is the product of the probabilities of the symptoms, including the unobserved ones ($y$).\n",
        "\n",
        "<br>\n",
        "\n",
        "We can improve this model further by introducing a smoothing parameter to address situations where marginal probabilities are zero:\n",
        "\n",
        "<br>\n",
        "\\begin{equation}\n",
        "P(S_i|D_k) = \\frac{N_{S_i|D_k} + \\alpha}{N_{D_k} + \\alpha \\cdot |V|}\n",
        "\\end{equation}\n",
        "\n",
        "<br>\n",
        "\n",
        "where\n",
        "* $N_{S_i|D_k}$ is the number of patients with $D_k$ that had symptom $S_i$\n",
        "* $N_{D_k}$ is the number of patients with $D_k$\n",
        "* $\\alpha$ is smoothing parameter\n",
        "* $|V|$ is the number of all symptoms for all $D$"
      ],
      "metadata": {
        "id": "yWB2bwJf8C73"
      }
    },
    {
      "cell_type": "markdown",
      "source": [
        "The Naive Bayes Classifier is valuable for <font color=\"#9980FA\">text classification</font> because of its effectiveness in handling high-dimensional data, such as text documents. By adapting the formulation above, we can align $D_k$ with text categories (e.g., spam, sports, negative review) and $S_i$ with sets of words or terms within those documents. This transformation enables the model to analyze the likelihood of a given category being associated with a specific set of words, making it a powerful tool for tasks like email spam detection, sentiment analysis, and topic categorization."
      ],
      "metadata": {
        "id": "Kj9ijoJ6RkwI"
      }
    },
    {
      "cell_type": "markdown",
      "source": [
        "# Codes"
      ],
      "metadata": {
        "id": "nul_Uu1bjPtP"
      }
    },
    {
      "cell_type": "markdown",
      "source": [
        "Let's take a look at how we can do text classification using the Naive Bayes Classifier. For this demonstration, we'll use the <font color=\"#9980FA\">`Rotten Tomatoes Reviews dataset`</font>, which includes both positive and negative text reviews. Our aim is to create a classifier that can determine the sentiment of these reviews."
      ],
      "metadata": {
        "id": "NjzhwDHTSsLy"
      }
    },
    {
      "cell_type": "code",
      "execution_count": 1,
      "metadata": {
        "id": "-i6L_s3ihvK-"
      },
      "outputs": [],
      "source": [
        "%%capture\n",
        "!pip install datasets"
      ]
    },
    {
      "cell_type": "markdown",
      "source": [
        "## Load the data set"
      ],
      "metadata": {
        "id": "yK2c6sw_Z-6t"
      }
    },
    {
      "cell_type": "code",
      "source": [
        "from datasets import load_dataset\n",
        "from pprint import pprint\n",
        "\n",
        "# Data set: https://huggingface.co/datasets/rotten_tomatoes\n",
        "dataset = load_dataset('rotten_tomatoes', split='train')\n",
        "print(dataset.info.description)"
      ],
      "metadata": {
        "colab": {
          "base_uri": "https://localhost:8080/"
        },
        "id": "Fw-jJZTEgccG",
        "outputId": "d4ecd6c3-f008-4b85-963a-3e95ad3d09c8"
      },
      "execution_count": 2,
      "outputs": [
        {
          "output_type": "stream",
          "name": "stdout",
          "text": [
            "Movie Review Dataset.\n",
            "This is a dataset of containing 5,331 positive and 5,331 negative processed\n",
            "sentences from Rotten Tomatoes movie reviews. This data was first used in Bo\n",
            "Pang and Lillian Lee, ``Seeing stars: Exploiting class relationships for\n",
            "sentiment categorization with respect to rating scales.'', Proceedings of the\n",
            "ACL, 2005.\n",
            "\n"
          ]
        }
      ]
    },
    {
      "cell_type": "markdown",
      "source": [
        "## Select feature and target variables"
      ],
      "metadata": {
        "id": "FQEv-ClpaD5I"
      }
    },
    {
      "cell_type": "code",
      "source": [
        "import numpy as np\n",
        "import pandas as pd\n",
        "\n",
        "df = pd.DataFrame({'text':dataset['text'], 'label':dataset['label']}, columns=['text', 'label'])\n",
        "\n",
        "X_train = df['text']  # features\n",
        "y_train = df['label'] # target (positive=1, negative=0)\n",
        "\n",
        "print(\"Sample positive reviews\")\n",
        "print(df[df['label']==1][:5])\n",
        "\n",
        "print(\"\\nSample negative reviews\")\n",
        "print(df[df['label']==0][:5])"
      ],
      "metadata": {
        "colab": {
          "base_uri": "https://localhost:8080/"
        },
        "id": "sACXTIwqhASf",
        "outputId": "ad41c986-56a3-4528-9bcf-ce99ae7ba111"
      },
      "execution_count": 3,
      "outputs": [
        {
          "output_type": "stream",
          "name": "stdout",
          "text": [
            "Sample positive reviews\n",
            "                                                text  label\n",
            "0  the rock is destined to be the 21st century's ...      1\n",
            "1  the gorgeously elaborate continuation of \" the...      1\n",
            "2                     effective but too-tepid biopic      1\n",
            "3  if you sometimes like to go to the movies to h...      1\n",
            "4  emerges as something rare , an issue movie tha...      1\n",
            "\n",
            "Sample negative reviews\n",
            "                                                   text  label\n",
            "4265                   simplistic , silly and tedious .      0\n",
            "4266  it's so laddish and juvenile , only teenage bo...      0\n",
            "4267  exploitative and largely devoid of the depth o...      0\n",
            "4268  [garbus] discards the potential for pathologic...      0\n",
            "4269  a visually flashy but narratively opaque and e...      0\n"
          ]
        }
      ]
    },
    {
      "cell_type": "markdown",
      "source": [
        "## Convert text to numerical features\n",
        "\n",
        "We will use <font color=\"#9980FA\">`CountVectorizer`</font> for bag-of-words approach. Another option is the <font color=\"#9980FA\">`TfidfVectorizer`</font>, which offers an alternative representation method that considers the importance of words not only within individual documents but also in the context of the entire corpus."
      ],
      "metadata": {
        "id": "Fy-8FeWHaH45"
      }
    },
    {
      "cell_type": "code",
      "source": [
        "from sklearn.feature_extraction.text import CountVectorizer\n",
        "\n",
        "#vectorizer = CountVectorizer()\n",
        "vectorizer = CountVectorizer(stop_words='english')  # remove stop words\n",
        "X_train_vec = vectorizer.fit_transform(X_train)\n",
        "\n",
        "words = vectorizer.get_feature_names_out()\n",
        "counts = X_train_vec.toarray().sum(axis=0)\n",
        "\n",
        "df_words = pd.DataFrame({'words':words, 'count':counts}, columns=['words', 'count'])\n",
        "df_words.sort_values(by=['count'], ascending=False).head(10)"
      ],
      "metadata": {
        "colab": {
          "base_uri": "https://localhost:8080/",
          "height": 363
        },
        "id": "v_VKyjMnXkeJ",
        "outputId": "7f4c70fb-7ba8-4c82-8fb5-79713ec9e7ec"
      },
      "execution_count": 4,
      "outputs": [
        {
          "output_type": "execute_result",
          "data": {
            "text/plain": [
              "            words  count\n",
              "5457         film   1258\n",
              "9346        movie   1116\n",
              "8360         like    587\n",
              "13730       story    387\n",
              "7908         just    368\n",
              "6189         good    329\n",
              "14549        time    304\n",
              "2730       comedy    301\n",
              "2290   characters    263\n",
              "3955     director    252"
            ],
            "text/html": [
              "\n",
              "  <div id=\"df-a2a45e7c-a154-4b5a-a3f0-d439fe87c3ee\" class=\"colab-df-container\">\n",
              "    <div>\n",
              "<style scoped>\n",
              "    .dataframe tbody tr th:only-of-type {\n",
              "        vertical-align: middle;\n",
              "    }\n",
              "\n",
              "    .dataframe tbody tr th {\n",
              "        vertical-align: top;\n",
              "    }\n",
              "\n",
              "    .dataframe thead th {\n",
              "        text-align: right;\n",
              "    }\n",
              "</style>\n",
              "<table border=\"1\" class=\"dataframe\">\n",
              "  <thead>\n",
              "    <tr style=\"text-align: right;\">\n",
              "      <th></th>\n",
              "      <th>words</th>\n",
              "      <th>count</th>\n",
              "    </tr>\n",
              "  </thead>\n",
              "  <tbody>\n",
              "    <tr>\n",
              "      <th>5457</th>\n",
              "      <td>film</td>\n",
              "      <td>1258</td>\n",
              "    </tr>\n",
              "    <tr>\n",
              "      <th>9346</th>\n",
              "      <td>movie</td>\n",
              "      <td>1116</td>\n",
              "    </tr>\n",
              "    <tr>\n",
              "      <th>8360</th>\n",
              "      <td>like</td>\n",
              "      <td>587</td>\n",
              "    </tr>\n",
              "    <tr>\n",
              "      <th>13730</th>\n",
              "      <td>story</td>\n",
              "      <td>387</td>\n",
              "    </tr>\n",
              "    <tr>\n",
              "      <th>7908</th>\n",
              "      <td>just</td>\n",
              "      <td>368</td>\n",
              "    </tr>\n",
              "    <tr>\n",
              "      <th>6189</th>\n",
              "      <td>good</td>\n",
              "      <td>329</td>\n",
              "    </tr>\n",
              "    <tr>\n",
              "      <th>14549</th>\n",
              "      <td>time</td>\n",
              "      <td>304</td>\n",
              "    </tr>\n",
              "    <tr>\n",
              "      <th>2730</th>\n",
              "      <td>comedy</td>\n",
              "      <td>301</td>\n",
              "    </tr>\n",
              "    <tr>\n",
              "      <th>2290</th>\n",
              "      <td>characters</td>\n",
              "      <td>263</td>\n",
              "    </tr>\n",
              "    <tr>\n",
              "      <th>3955</th>\n",
              "      <td>director</td>\n",
              "      <td>252</td>\n",
              "    </tr>\n",
              "  </tbody>\n",
              "</table>\n",
              "</div>\n",
              "    <div class=\"colab-df-buttons\">\n",
              "\n",
              "  <div class=\"colab-df-container\">\n",
              "    <button class=\"colab-df-convert\" onclick=\"convertToInteractive('df-a2a45e7c-a154-4b5a-a3f0-d439fe87c3ee')\"\n",
              "            title=\"Convert this dataframe to an interactive table.\"\n",
              "            style=\"display:none;\">\n",
              "\n",
              "  <svg xmlns=\"http://www.w3.org/2000/svg\" height=\"24px\" viewBox=\"0 -960 960 960\">\n",
              "    <path d=\"M120-120v-720h720v720H120Zm60-500h600v-160H180v160Zm220 220h160v-160H400v160Zm0 220h160v-160H400v160ZM180-400h160v-160H180v160Zm440 0h160v-160H620v160ZM180-180h160v-160H180v160Zm440 0h160v-160H620v160Z\"/>\n",
              "  </svg>\n",
              "    </button>\n",
              "\n",
              "  <style>\n",
              "    .colab-df-container {\n",
              "      display:flex;\n",
              "      gap: 12px;\n",
              "    }\n",
              "\n",
              "    .colab-df-convert {\n",
              "      background-color: #E8F0FE;\n",
              "      border: none;\n",
              "      border-radius: 50%;\n",
              "      cursor: pointer;\n",
              "      display: none;\n",
              "      fill: #1967D2;\n",
              "      height: 32px;\n",
              "      padding: 0 0 0 0;\n",
              "      width: 32px;\n",
              "    }\n",
              "\n",
              "    .colab-df-convert:hover {\n",
              "      background-color: #E2EBFA;\n",
              "      box-shadow: 0px 1px 2px rgba(60, 64, 67, 0.3), 0px 1px 3px 1px rgba(60, 64, 67, 0.15);\n",
              "      fill: #174EA6;\n",
              "    }\n",
              "\n",
              "    .colab-df-buttons div {\n",
              "      margin-bottom: 4px;\n",
              "    }\n",
              "\n",
              "    [theme=dark] .colab-df-convert {\n",
              "      background-color: #3B4455;\n",
              "      fill: #D2E3FC;\n",
              "    }\n",
              "\n",
              "    [theme=dark] .colab-df-convert:hover {\n",
              "      background-color: #434B5C;\n",
              "      box-shadow: 0px 1px 3px 1px rgba(0, 0, 0, 0.15);\n",
              "      filter: drop-shadow(0px 1px 2px rgba(0, 0, 0, 0.3));\n",
              "      fill: #FFFFFF;\n",
              "    }\n",
              "  </style>\n",
              "\n",
              "    <script>\n",
              "      const buttonEl =\n",
              "        document.querySelector('#df-a2a45e7c-a154-4b5a-a3f0-d439fe87c3ee button.colab-df-convert');\n",
              "      buttonEl.style.display =\n",
              "        google.colab.kernel.accessAllowed ? 'block' : 'none';\n",
              "\n",
              "      async function convertToInteractive(key) {\n",
              "        const element = document.querySelector('#df-a2a45e7c-a154-4b5a-a3f0-d439fe87c3ee');\n",
              "        const dataTable =\n",
              "          await google.colab.kernel.invokeFunction('convertToInteractive',\n",
              "                                                    [key], {});\n",
              "        if (!dataTable) return;\n",
              "\n",
              "        const docLinkHtml = 'Like what you see? Visit the ' +\n",
              "          '<a target=\"_blank\" href=https://colab.research.google.com/notebooks/data_table.ipynb>data table notebook</a>'\n",
              "          + ' to learn more about interactive tables.';\n",
              "        element.innerHTML = '';\n",
              "        dataTable['output_type'] = 'display_data';\n",
              "        await google.colab.output.renderOutput(dataTable, element);\n",
              "        const docLink = document.createElement('div');\n",
              "        docLink.innerHTML = docLinkHtml;\n",
              "        element.appendChild(docLink);\n",
              "      }\n",
              "    </script>\n",
              "  </div>\n",
              "\n",
              "\n",
              "<div id=\"df-105d6b1c-6295-4f6a-87cd-50a8b48067c6\">\n",
              "  <button class=\"colab-df-quickchart\" onclick=\"quickchart('df-105d6b1c-6295-4f6a-87cd-50a8b48067c6')\"\n",
              "            title=\"Suggest charts.\"\n",
              "            style=\"display:none;\">\n",
              "\n",
              "<svg xmlns=\"http://www.w3.org/2000/svg\" height=\"24px\"viewBox=\"0 0 24 24\"\n",
              "     width=\"24px\">\n",
              "    <g>\n",
              "        <path d=\"M19 3H5c-1.1 0-2 .9-2 2v14c0 1.1.9 2 2 2h14c1.1 0 2-.9 2-2V5c0-1.1-.9-2-2-2zM9 17H7v-7h2v7zm4 0h-2V7h2v10zm4 0h-2v-4h2v4z\"/>\n",
              "    </g>\n",
              "</svg>\n",
              "  </button>\n",
              "\n",
              "<style>\n",
              "  .colab-df-quickchart {\n",
              "      --bg-color: #E8F0FE;\n",
              "      --fill-color: #1967D2;\n",
              "      --hover-bg-color: #E2EBFA;\n",
              "      --hover-fill-color: #174EA6;\n",
              "      --disabled-fill-color: #AAA;\n",
              "      --disabled-bg-color: #DDD;\n",
              "  }\n",
              "\n",
              "  [theme=dark] .colab-df-quickchart {\n",
              "      --bg-color: #3B4455;\n",
              "      --fill-color: #D2E3FC;\n",
              "      --hover-bg-color: #434B5C;\n",
              "      --hover-fill-color: #FFFFFF;\n",
              "      --disabled-bg-color: #3B4455;\n",
              "      --disabled-fill-color: #666;\n",
              "  }\n",
              "\n",
              "  .colab-df-quickchart {\n",
              "    background-color: var(--bg-color);\n",
              "    border: none;\n",
              "    border-radius: 50%;\n",
              "    cursor: pointer;\n",
              "    display: none;\n",
              "    fill: var(--fill-color);\n",
              "    height: 32px;\n",
              "    padding: 0;\n",
              "    width: 32px;\n",
              "  }\n",
              "\n",
              "  .colab-df-quickchart:hover {\n",
              "    background-color: var(--hover-bg-color);\n",
              "    box-shadow: 0 1px 2px rgba(60, 64, 67, 0.3), 0 1px 3px 1px rgba(60, 64, 67, 0.15);\n",
              "    fill: var(--button-hover-fill-color);\n",
              "  }\n",
              "\n",
              "  .colab-df-quickchart-complete:disabled,\n",
              "  .colab-df-quickchart-complete:disabled:hover {\n",
              "    background-color: var(--disabled-bg-color);\n",
              "    fill: var(--disabled-fill-color);\n",
              "    box-shadow: none;\n",
              "  }\n",
              "\n",
              "  .colab-df-spinner {\n",
              "    border: 2px solid var(--fill-color);\n",
              "    border-color: transparent;\n",
              "    border-bottom-color: var(--fill-color);\n",
              "    animation:\n",
              "      spin 1s steps(1) infinite;\n",
              "  }\n",
              "\n",
              "  @keyframes spin {\n",
              "    0% {\n",
              "      border-color: transparent;\n",
              "      border-bottom-color: var(--fill-color);\n",
              "      border-left-color: var(--fill-color);\n",
              "    }\n",
              "    20% {\n",
              "      border-color: transparent;\n",
              "      border-left-color: var(--fill-color);\n",
              "      border-top-color: var(--fill-color);\n",
              "    }\n",
              "    30% {\n",
              "      border-color: transparent;\n",
              "      border-left-color: var(--fill-color);\n",
              "      border-top-color: var(--fill-color);\n",
              "      border-right-color: var(--fill-color);\n",
              "    }\n",
              "    40% {\n",
              "      border-color: transparent;\n",
              "      border-right-color: var(--fill-color);\n",
              "      border-top-color: var(--fill-color);\n",
              "    }\n",
              "    60% {\n",
              "      border-color: transparent;\n",
              "      border-right-color: var(--fill-color);\n",
              "    }\n",
              "    80% {\n",
              "      border-color: transparent;\n",
              "      border-right-color: var(--fill-color);\n",
              "      border-bottom-color: var(--fill-color);\n",
              "    }\n",
              "    90% {\n",
              "      border-color: transparent;\n",
              "      border-bottom-color: var(--fill-color);\n",
              "    }\n",
              "  }\n",
              "</style>\n",
              "\n",
              "  <script>\n",
              "    async function quickchart(key) {\n",
              "      const quickchartButtonEl =\n",
              "        document.querySelector('#' + key + ' button');\n",
              "      quickchartButtonEl.disabled = true;  // To prevent multiple clicks.\n",
              "      quickchartButtonEl.classList.add('colab-df-spinner');\n",
              "      try {\n",
              "        const charts = await google.colab.kernel.invokeFunction(\n",
              "            'suggestCharts', [key], {});\n",
              "      } catch (error) {\n",
              "        console.error('Error during call to suggestCharts:', error);\n",
              "      }\n",
              "      quickchartButtonEl.classList.remove('colab-df-spinner');\n",
              "      quickchartButtonEl.classList.add('colab-df-quickchart-complete');\n",
              "    }\n",
              "    (() => {\n",
              "      let quickchartButtonEl =\n",
              "        document.querySelector('#df-105d6b1c-6295-4f6a-87cd-50a8b48067c6 button');\n",
              "      quickchartButtonEl.style.display =\n",
              "        google.colab.kernel.accessAllowed ? 'block' : 'none';\n",
              "    })();\n",
              "  </script>\n",
              "</div>\n",
              "    </div>\n",
              "  </div>\n"
            ]
          },
          "metadata": {},
          "execution_count": 4
        }
      ]
    },
    {
      "cell_type": "markdown",
      "source": [
        "## Fit the Naive Bayes Classifier\n",
        "\n",
        "Scikit-learn provides pre-built Naive Bayes classification models. Choosing which type of model mostly depends on the feature types:\n",
        "\n",
        "* <font color=\"#9980FA\">`BernoulliNB`</font>:   binary/boolean features\n",
        "* <font color=\"#9980FA\">`MultinomialNB`</font>: discrete features\n",
        "* <font color=\"#9980FA\">`GaussianNB`</font>:    continuous features"
      ],
      "metadata": {
        "id": "ktAJV-p2as4v"
      }
    },
    {
      "cell_type": "code",
      "source": [
        "from sklearn.naive_bayes import MultinomialNB\n",
        "\n",
        "model = MultinomialNB()\n",
        "model.fit(X_train_vec, y_train)\n",
        "y_pred = model.predict(X_train_vec) # Note: this should be done a separate test set\n",
        "y_true = y_train                    # Note: this should be done a separate test set\n",
        "\n",
        "# Print some of the prediction results\n",
        "prediction_results = pd.DataFrame({'Target':y_true, 'Prediction':y_pred}, columns=['Target', 'Prediction'])\n",
        "print(prediction_results.sample(n=20, random_state=280))"
      ],
      "metadata": {
        "colab": {
          "base_uri": "https://localhost:8080/"
        },
        "id": "TjXVJUmuS74r",
        "outputId": "d4c4fb46-5a89-46d5-e5a1-a3fc9d10a411"
      },
      "execution_count": 5,
      "outputs": [
        {
          "output_type": "stream",
          "name": "stdout",
          "text": [
            "      Target  Prediction\n",
            "8211       0           0\n",
            "6479       0           0\n",
            "446        1           1\n",
            "7572       0           0\n",
            "7135       0           0\n",
            "7799       0           0\n",
            "5768       0           0\n",
            "6286       0           0\n",
            "6695       0           0\n",
            "4738       0           0\n",
            "1682       1           1\n",
            "4608       0           0\n",
            "8488       0           0\n",
            "703        1           1\n",
            "8073       0           0\n",
            "469        1           1\n",
            "4621       0           0\n",
            "5227       0           0\n",
            "5616       0           0\n",
            "1699       1           1\n"
          ]
        }
      ]
    },
    {
      "cell_type": "markdown",
      "source": [
        "## Analyze the model performance\n"
      ],
      "metadata": {
        "id": "6MmiGq9JbL4d"
      }
    },
    {
      "cell_type": "code",
      "source": [
        "# Compute confusion matrix\n",
        "from sklearn.metrics import confusion_matrix\n",
        "\n",
        "cm = confusion_matrix(y_true, y_pred, labels=[1, 0])\n",
        "\n",
        "# Plot confusion matrix\n",
        "import seaborn as sns\n",
        "import matplotlib.pyplot as plt\n",
        "\n",
        "ax = plt.subplot()\n",
        "sns.heatmap(cm, annot=True, fmt='g', ax=ax)\n",
        "\n",
        "ax.set_xlabel('Prediction')\n",
        "ax.set_ylabel('Target')\n",
        "ax.set_title('Confusion Matrix')\n",
        "ax.xaxis.set_ticklabels(['positive', 'negative'])\n",
        "ax.yaxis.set_ticklabels(['positive', 'negative'])\n",
        "\n",
        "plt.show()\n",
        "\n",
        "# Print performance statistics\n",
        "from sklearn.metrics import classification_report\n",
        "\n",
        "print(\"\\n\",classification_report(y_true, y_pred, labels=[1, 0], target_names=['Positive', 'Negative']))"
      ],
      "metadata": {
        "colab": {
          "base_uri": "https://localhost:8080/",
          "height": 646
        },
        "id": "3HuHJ6TwWOV2",
        "outputId": "9b3cee3d-1237-4851-dd77-c6895d3d23b3"
      },
      "execution_count": 6,
      "outputs": [
        {
          "output_type": "display_data",
          "data": {
            "text/plain": [
              "<Figure size 640x480 with 2 Axes>"
            ],
            "image/png": "[encoded data removed]"
          },
          "metadata": {}
        },
        {
          "output_type": "stream",
          "name": "stdout",
          "text": [
            "\n",
            "               precision    recall  f1-score   support\n",
            "\n",
            "    Positive       0.93      0.93      0.93      4265\n",
            "    Negative       0.93      0.94      0.93      4265\n",
            "\n",
            "    accuracy                           0.93      8530\n",
            "   macro avg       0.93      0.93      0.93      8530\n",
            "weighted avg       0.93      0.93      0.93      8530\n",
            "\n"
          ]
        }
      ]
    },
    {
      "cell_type": "markdown",
      "source": [
        "# Challenges"
      ],
      "metadata": {
        "id": "QOY73ej_jTlJ"
      }
    },
    {
      "cell_type": "markdown",
      "source": [
        "Our Naive Bayes Classifier achieved an impressively high accuracy rate (>90%), but there's a catch! This accuracy figure represents the training accuracy, and it has limitations. Training accuracy merely informs us about how well the model has learned from the training data. It doesn't tell us how the model will perform when faced with new, unseen data. To measure the model's generalization ability, we need to evaluate its predictive performance on a separate test dataset.\n",
        "\n",
        "For your challenge, you'll be working with the Rotten Tomatoes Reviews test dataset to evaluate how well the model performs on unseen data. Let's see if you can achieve a high test accuracy. You got this!"
      ],
      "metadata": {
        "id": "Ve52wt091boL"
      }
    },
    {
      "cell_type": "markdown",
      "source": [
        "## Q1 [1 pt] Loading test data\n",
        "Load the Rotten Tomatoes Reviews Test data set from HuggingFace."
      ],
      "metadata": {
        "id": "Yxsc_fLTlChw"
      }
    },
    {
      "cell_type": "code",
      "source": [
        "X_test, y_test = pd.DataFrame(columns=['text']), pd.DataFrame(columns=['label'])\n",
        "\n",
        "# --------------------------------------------\n",
        "# TODO: INSERT CODE HERE\n",
        "# Assign the test features to X_test\n",
        "# and the test labels to y_test.\n",
        "\n",
        "dataset_test = load_dataset('rotten_tomatoes', split='test')\n",
        "\n",
        "df_test = pd.DataFrame({'text':dataset_test['text'], 'label':dataset_test['label']}, columns=['text', 'label'])\n",
        "\n",
        "X_test = df_test['text']  # features\n",
        "y_test = df_test['label'] # target (positive=1, negative=0)\n",
        "\n",
        "# --------------------------------------------\n",
        "\n",
        "print(\"Train set size:\", len(X_train))\n",
        "print(\"Test set size:\", len(X_test))"
      ],
      "metadata": {
        "colab": {
          "base_uri": "https://localhost:8080/"
        },
        "id": "7srWn5I80KHe",
        "outputId": "3b92109f-eb61-4fc2-9259-a1a3f8fbe1c9"
      },
      "execution_count": 7,
      "outputs": [
        {
          "output_type": "stream",
          "name": "stdout",
          "text": [
            "Train set size: 8530\n",
            "Test set size: 1066\n"
          ]
        }
      ]
    },
    {
      "cell_type": "markdown",
      "source": [
        "## Q2 [1 pt] Transforming features\n",
        "Transform the test data with the previously computed bag-of-words (CountVectorizer)."
      ],
      "metadata": {
        "id": "rKlPo-0_lKpv"
      }
    },
    {
      "cell_type": "code",
      "source": [
        "words = vectorizer.get_feature_names_out()\n",
        "counts_test = counts.copy()\n",
        "counts_test[:] = 0\n",
        "\n",
        "# --------------------------------------------\n",
        "# TODO: INSERT CODE HERE\n",
        "# Store the test data word counts to\n",
        "# counts_test.\n",
        "\n",
        "X_test_vec = vectorizer.transform(X_test)\n",
        "counts_test = X_test_vec.toarray().sum(axis=0)\n",
        "\n",
        "# --------------------------------------------\n",
        "\n",
        "df_words_test = pd.DataFrame({'words':words, 'count':counts_test}, columns=['words', 'count'])\n",
        "df_words_test.sort_values(by=['count'], ascending=False).head(10)"
      ],
      "metadata": {
        "colab": {
          "base_uri": "https://localhost:8080/",
          "height": 363
        },
        "id": "_ua0IcE_21Jn",
        "outputId": "87dbc760-3c63-48b1-bf3f-871b0e568da2"
      },
      "execution_count": 8,
      "outputs": [
        {
          "output_type": "execute_result",
          "data": {
            "text/plain": [
              "            words  count\n",
              "5457         film    159\n",
              "9346        movie    134\n",
              "8360         like     85\n",
              "13730       story     58\n",
              "2730       comedy     43\n",
              "6189         good     39\n",
              "2290   characters     37\n",
              "14549        time     36\n",
              "7908         just     35\n",
              "15741         way     35"
            ],
            "text/html": [
              "\n",
              "  <div id=\"df-4472188b-e18c-4472-a58b-3475ea092d24\" class=\"colab-df-container\">\n",
              "    <div>\n",
              "<style scoped>\n",
              "    .dataframe tbody tr th:only-of-type {\n",
              "        vertical-align: middle;\n",
              "    }\n",
              "\n",
              "    .dataframe tbody tr th {\n",
              "        vertical-align: top;\n",
              "    }\n",
              "\n",
              "    .dataframe thead th {\n",
              "        text-align: right;\n",
              "    }\n",
              "</style>\n",
              "<table border=\"1\" class=\"dataframe\">\n",
              "  <thead>\n",
              "    <tr style=\"text-align: right;\">\n",
              "      <th></th>\n",
              "      <th>words</th>\n",
              "      <th>count</th>\n",
              "    </tr>\n",
              "  </thead>\n",
              "  <tbody>\n",
              "    <tr>\n",
              "      <th>5457</th>\n",
              "      <td>film</td>\n",
              "      <td>159</td>\n",
              "    </tr>\n",
              "    <tr>\n",
              "      <th>9346</th>\n",
              "      <td>movie</td>\n",
              "      <td>134</td>\n",
              "    </tr>\n",
              "    <tr>\n",
              "      <th>8360</th>\n",
              "      <td>like</td>\n",
              "      <td>85</td>\n",
              "    </tr>\n",
              "    <tr>\n",
              "      <th>13730</th>\n",
              "      <td>story</td>\n",
              "      <td>58</td>\n",
              "    </tr>\n",
              "    <tr>\n",
              "      <th>2730</th>\n",
              "      <td>comedy</td>\n",
              "      <td>43</td>\n",
              "    </tr>\n",
              "    <tr>\n",
              "      <th>6189</th>\n",
              "      <td>good</td>\n",
              "      <td>39</td>\n",
              "    </tr>\n",
              "    <tr>\n",
              "      <th>2290</th>\n",
              "      <td>characters</td>\n",
              "      <td>37</td>\n",
              "    </tr>\n",
              "    <tr>\n",
              "      <th>14549</th>\n",
              "      <td>time</td>\n",
              "      <td>36</td>\n",
              "    </tr>\n",
              "    <tr>\n",
              "      <th>7908</th>\n",
              "      <td>just</td>\n",
              "      <td>35</td>\n",
              "    </tr>\n",
              "    <tr>\n",
              "      <th>15741</th>\n",
              "      <td>way</td>\n",
              "      <td>35</td>\n",
              "    </tr>\n",
              "  </tbody>\n",
              "</table>\n",
              "</div>\n",
              "    <div class=\"colab-df-buttons\">\n",
              "\n",
              "  <div class=\"colab-df-container\">\n",
              "    <button class=\"colab-df-convert\" onclick=\"convertToInteractive('df-4472188b-e18c-4472-a58b-3475ea092d24')\"\n",
              "            title=\"Convert this dataframe to an interactive table.\"\n",
              "            style=\"display:none;\">\n",
              "\n",
              "  <svg xmlns=\"http://www.w3.org/2000/svg\" height=\"24px\" viewBox=\"0 -960 960 960\">\n",
              "    <path d=\"M120-120v-720h720v720H120Zm60-500h600v-160H180v160Zm220 220h160v-160H400v160Zm0 220h160v-160H400v160ZM180-400h160v-160H180v160Zm440 0h160v-160H620v160ZM180-180h160v-160H180v160Zm440 0h160v-160H620v160Z\"/>\n",
              "  </svg>\n",
              "    </button>\n",
              "\n",
              "  <style>\n",
              "    .colab-df-container {\n",
              "      display:flex;\n",
              "      gap: 12px;\n",
              "    }\n",
              "\n",
              "    .colab-df-convert {\n",
              "      background-color: #E8F0FE;\n",
              "      border: none;\n",
              "      border-radius: 50%;\n",
              "      cursor: pointer;\n",
              "      display: none;\n",
              "      fill: #1967D2;\n",
              "      height: 32px;\n",
              "      padding: 0 0 0 0;\n",
              "      width: 32px;\n",
              "    }\n",
              "\n",
              "    .colab-df-convert:hover {\n",
              "      background-color: #E2EBFA;\n",
              "      box-shadow: 0px 1px 2px rgba(60, 64, 67, 0.3), 0px 1px 3px 1px rgba(60, 64, 67, 0.15);\n",
              "      fill: #174EA6;\n",
              "    }\n",
              "\n",
              "    .colab-df-buttons div {\n",
              "      margin-bottom: 4px;\n",
              "    }\n",
              "\n",
              "    [theme=dark] .colab-df-convert {\n",
              "      background-color: #3B4455;\n",
              "      fill: #D2E3FC;\n",
              "    }\n",
              "\n",
              "    [theme=dark] .colab-df-convert:hover {\n",
              "      background-color: #434B5C;\n",
              "      box-shadow: 0px 1px 3px 1px rgba(0, 0, 0, 0.15);\n",
              "      filter: drop-shadow(0px 1px 2px rgba(0, 0, 0, 0.3));\n",
              "      fill: #FFFFFF;\n",
              "    }\n",
              "  </style>\n",
              "\n",
              "    <script>\n",
              "      const buttonEl =\n",
              "        document.querySelector('#df-4472188b-e18c-4472-a58b-3475ea092d24 button.colab-df-convert');\n",
              "      buttonEl.style.display =\n",
              "        google.colab.kernel.accessAllowed ? 'block' : 'none';\n",
              "\n",
              "      async function convertToInteractive(key) {\n",
              "        const element = document.querySelector('#df-4472188b-e18c-4472-a58b-3475ea092d24');\n",
              "        const dataTable =\n",
              "          await google.colab.kernel.invokeFunction('convertToInteractive',\n",
              "                                                    [key], {});\n",
              "        if (!dataTable) return;\n",
              "\n",
              "        const docLinkHtml = 'Like what you see? Visit the ' +\n",
              "          '<a target=\"_blank\" href=https://colab.research.google.com/notebooks/data_table.ipynb>data table notebook</a>'\n",
              "          + ' to learn more about interactive tables.';\n",
              "        element.innerHTML = '';\n",
              "        dataTable['output_type'] = 'display_data';\n",
              "        await google.colab.output.renderOutput(dataTable, element);\n",
              "        const docLink = document.createElement('div');\n",
              "        docLink.innerHTML = docLinkHtml;\n",
              "        element.appendChild(docLink);\n",
              "      }\n",
              "    </script>\n",
              "  </div>\n",
              "\n",
              "\n",
              "<div id=\"df-320f9e66-8813-4074-8f48-5927144d0b4d\">\n",
              "  <button class=\"colab-df-quickchart\" onclick=\"quickchart('df-320f9e66-8813-4074-8f48-5927144d0b4d')\"\n",
              "            title=\"Suggest charts.\"\n",
              "            style=\"display:none;\">\n",
              "\n",
              "<svg xmlns=\"http://www.w3.org/2000/svg\" height=\"24px\"viewBox=\"0 0 24 24\"\n",
              "     width=\"24px\">\n",
              "    <g>\n",
              "        <path d=\"M19 3H5c-1.1 0-2 .9-2 2v14c0 1.1.9 2 2 2h14c1.1 0 2-.9 2-2V5c0-1.1-.9-2-2-2zM9 17H7v-7h2v7zm4 0h-2V7h2v10zm4 0h-2v-4h2v4z\"/>\n",
              "    </g>\n",
              "</svg>\n",
              "  </button>\n",
              "\n",
              "<style>\n",
              "  .colab-df-quickchart {\n",
              "      --bg-color: #E8F0FE;\n",
              "      --fill-color: #1967D2;\n",
              "      --hover-bg-color: #E2EBFA;\n",
              "      --hover-fill-color: #174EA6;\n",
              "      --disabled-fill-color: #AAA;\n",
              "      --disabled-bg-color: #DDD;\n",
              "  }\n",
              "\n",
              "  [theme=dark] .colab-df-quickchart {\n",
              "      --bg-color: #3B4455;\n",
              "      --fill-color: #D2E3FC;\n",
              "      --hover-bg-color: #434B5C;\n",
              "      --hover-fill-color: #FFFFFF;\n",
              "      --disabled-bg-color: #3B4455;\n",
              "      --disabled-fill-color: #666;\n",
              "  }\n",
              "\n",
              "  .colab-df-quickchart {\n",
              "    background-color: var(--bg-color);\n",
              "    border: none;\n",
              "    border-radius: 50%;\n",
              "    cursor: pointer;\n",
              "    display: none;\n",
              "    fill: var(--fill-color);\n",
              "    height: 32px;\n",
              "    padding: 0;\n",
              "    width: 32px;\n",
              "  }\n",
              "\n",
              "  .colab-df-quickchart:hover {\n",
              "    background-color: var(--hover-bg-color);\n",
              "    box-shadow: 0 1px 2px rgba(60, 64, 67, 0.3), 0 1px 3px 1px rgba(60, 64, 67, 0.15);\n",
              "    fill: var(--button-hover-fill-color);\n",
              "  }\n",
              "\n",
              "  .colab-df-quickchart-complete:disabled,\n",
              "  .colab-df-quickchart-complete:disabled:hover {\n",
              "    background-color: var(--disabled-bg-color);\n",
              "    fill: var(--disabled-fill-color);\n",
              "    box-shadow: none;\n",
              "  }\n",
              "\n",
              "  .colab-df-spinner {\n",
              "    border: 2px solid var(--fill-color);\n",
              "    border-color: transparent;\n",
              "    border-bottom-color: var(--fill-color);\n",
              "    animation:\n",
              "      spin 1s steps(1) infinite;\n",
              "  }\n",
              "\n",
              "  @keyframes spin {\n",
              "    0% {\n",
              "      border-color: transparent;\n",
              "      border-bottom-color: var(--fill-color);\n",
              "      border-left-color: var(--fill-color);\n",
              "    }\n",
              "    20% {\n",
              "      border-color: transparent;\n",
              "      border-left-color: var(--fill-color);\n",
              "      border-top-color: var(--fill-color);\n",
              "    }\n",
              "    30% {\n",
              "      border-color: transparent;\n",
              "      border-left-color: var(--fill-color);\n",
              "      border-top-color: var(--fill-color);\n",
              "      border-right-color: var(--fill-color);\n",
              "    }\n",
              "    40% {\n",
              "      border-color: transparent;\n",
              "      border-right-color: var(--fill-color);\n",
              "      border-top-color: var(--fill-color);\n",
              "    }\n",
              "    60% {\n",
              "      border-color: transparent;\n",
              "      border-right-color: var(--fill-color);\n",
              "    }\n",
              "    80% {\n",
              "      border-color: transparent;\n",
              "      border-right-color: var(--fill-color);\n",
              "      border-bottom-color: var(--fill-color);\n",
              "    }\n",
              "    90% {\n",
              "      border-color: transparent;\n",
              "      border-bottom-color: var(--fill-color);\n",
              "    }\n",
              "  }\n",
              "</style>\n",
              "\n",
              "  <script>\n",
              "    async function quickchart(key) {\n",
              "      const quickchartButtonEl =\n",
              "        document.querySelector('#' + key + ' button');\n",
              "      quickchartButtonEl.disabled = true;  // To prevent multiple clicks.\n",
              "      quickchartButtonEl.classList.add('colab-df-spinner');\n",
              "      try {\n",
              "        const charts = await google.colab.kernel.invokeFunction(\n",
              "            'suggestCharts', [key], {});\n",
              "      } catch (error) {\n",
              "        console.error('Error during call to suggestCharts:', error);\n",
              "      }\n",
              "      quickchartButtonEl.classList.remove('colab-df-spinner');\n",
              "      quickchartButtonEl.classList.add('colab-df-quickchart-complete');\n",
              "    }\n",
              "    (() => {\n",
              "      let quickchartButtonEl =\n",
              "        document.querySelector('#df-320f9e66-8813-4074-8f48-5927144d0b4d button');\n",
              "      quickchartButtonEl.style.display =\n",
              "        google.colab.kernel.accessAllowed ? 'block' : 'none';\n",
              "    })();\n",
              "  </script>\n",
              "</div>\n",
              "    </div>\n",
              "  </div>\n"
            ]
          },
          "metadata": {},
          "execution_count": 8
        }
      ]
    },
    {
      "cell_type": "markdown",
      "source": [
        "## Q3 [1 pt] Predicting test data\n",
        "Predict the vectorized test data using the previously fitted Multinomial Naive Bayes model."
      ],
      "metadata": {
        "id": "xgi4k-lzlPHC"
      }
    },
    {
      "cell_type": "code",
      "source": [
        "y_pred, y_true = [0]*10, [1]*10\n",
        "\n",
        "# --------------------------------------------\n",
        "# TODO: INSERT CODE HERE\n",
        "# Predict the review sentiments on the\n",
        "# test data set.\n",
        "#\n",
        "# y_pred should have the predicted values\n",
        "# y_true should have the target/actual labels\n",
        "\n",
        "model = MultinomialNB()\n",
        "model.fit(X_train_vec, y_train)\n",
        "y_pred = model.predict(X_test_vec)\n",
        "y_true = y_test\n",
        "\n",
        "# --------------------------------------------\n",
        "\n",
        "prediction_results = pd.DataFrame({'Target':y_true, 'Prediction':y_pred}, columns=['Target', 'Prediction'])\n",
        "print(prediction_results.sample(n=10, random_state=280))"
      ],
      "metadata": {
        "colab": {
          "base_uri": "https://localhost:8080/"
        },
        "id": "qtpVQ5Oh21CS",
        "outputId": "eecd808a-29e5-4d5f-a58c-b4cfaa29ee0d"
      },
      "execution_count": 9,
      "outputs": [
        {
          "output_type": "stream",
          "name": "stdout",
          "text": [
            "     Target  Prediction\n",
            "901       0           1\n",
            "907       0           0\n",
            "465       1           1\n",
            "205       1           1\n",
            "577       0           1\n",
            "995       0           0\n",
            "347       1           1\n",
            "807       0           1\n",
            "530       1           1\n",
            "295       1           1\n"
          ]
        }
      ]
    },
    {
      "cell_type": "markdown",
      "source": [
        "## Q4 [2 pts] Analyzing test performance\n",
        "Compute the model performance, and display the confusion matrix, accuracy, precision, recall, and f1-score."
      ],
      "metadata": {
        "id": "7WvLz3LDlQOa"
      }
    },
    {
      "cell_type": "code",
      "source": [
        "# --------------------------------------------\n",
        "# TODO: INSERT CODE HERE\n",
        "# Plot the confusion matrix based on the\n",
        "# predicted values in Q3.\n",
        "#\n",
        "# Then print performance statistics.\n",
        "\n",
        "# Compute confusion matrix\n",
        "cm = confusion_matrix(y_true, y_pred, labels=[1, 0])\n",
        "\n",
        "# Plot confusion matrix\n",
        "ax = plt.subplot()\n",
        "sns.heatmap(cm, annot=True, fmt='g', ax=ax)\n",
        "\n",
        "ax.set_xlabel('Prediction')\n",
        "ax.set_ylabel('Target')\n",
        "ax.set_title('Confusion Matrix')\n",
        "ax.xaxis.set_ticklabels(['positive', 'negative'])\n",
        "ax.yaxis.set_ticklabels(['positive', 'negative'])\n",
        "\n",
        "plt.show()\n",
        "\n",
        "# Print performance statistics\n",
        "from sklearn.metrics import classification_report\n",
        "\n",
        "print(\"\\n\",classification_report(y_true, y_pred, labels=[1, 0], target_names=['Positive', 'Negative']))\n",
        "\n",
        "# --------------------------------------------"
      ],
      "metadata": {
        "id": "WzzikRqXjWVF",
        "colab": {
          "base_uri": "https://localhost:8080/",
          "height": 646
        },
        "outputId": "1680c18e-7e2d-4264-c499-9391ec61dff7"
      },
      "execution_count": 10,
      "outputs": [
        {
          "output_type": "display_data",
          "data": {
            "text/plain": [
              "<Figure size 640x480 with 2 Axes>"
            ],
            "image/png": "[encoded data removed]"
          },
          "metadata": {}
        },
        {
          "output_type": "stream",
          "name": "stdout",
          "text": [
            "\n",
            "               precision    recall  f1-score   support\n",
            "\n",
            "    Positive       0.77      0.77      0.77       533\n",
            "    Negative       0.77      0.77      0.77       533\n",
            "\n",
            "    accuracy                           0.77      1066\n",
            "   macro avg       0.77      0.77      0.77      1066\n",
            "weighted avg       0.77      0.77      0.77      1066\n",
            "\n"
          ]
        }
      ]
    },
    {
      "cell_type": "markdown",
      "source": [
        "## Q5 [3 pts] Improving accuracy\n",
        "\n",
        "Try to improve the test accuracy of your Naive Bayes Classifier.\n",
        "\n",
        "* 1 pt: ≥ 78%\n",
        "* 2 pts: ≥ 79%\n",
        "* 3 pts: ≥ 80%\n",
        "\n",
        "<br>\n",
        "\n",
        "Here are the rules:\n",
        "* You may only use an NB model, but you may explore NB model variants such as Gaussian, etc.\n",
        "* You cannot use other classifier models (e.g., ensemble learning).\n",
        "* You may generate/extract new features, including alternative vectorizers\n",
        "* You may perform additional preprocessing steps\n",
        "* You must separate the training and testing, and you are not allowed to mix these data sets. However, you may perform validation using the validation set (see HuggingFace)\n",
        "\n",
        "<br>\n",
        "\n",
        "Tips:\n",
        "1. Run this locally for faster / more efficient processing\n",
        "2. Look out for the distinct words on each review class\n",
        "3. Play around with the function parameters (check Sklearn API)\n",
        "4. Reaching an 80% accuracy might be very challenging for Naive Bayes, so don't be too hard on yourself."
      ],
      "metadata": {
        "id": "8veCE28N230o"
      }
    },
    {
      "cell_type": "markdown",
      "source": [
        "### 1. Using TD-IDF Vectorizer"
      ],
      "metadata": {
        "id": "GuTCPdNqfWbW"
      }
    },
    {
      "cell_type": "code",
      "source": [
        "def TfidfVectorizerMultinomialNB(X_train, X_test, y_train, y_test):\n",
        "  # Copy the train and test datasets\n",
        "  X_train_TFIDF = X_train.copy()\n",
        "  X_test_TFIDF = X_test.copy()\n",
        "  y_train = y_train.copy()\n",
        "  y_test = y_test.copy()\n",
        "\n",
        "  # Import TD-IDF Vectorizer\n",
        "  from sklearn.feature_extraction.text import TfidfVectorizer\n",
        "\n",
        "  # Fit the training set and transform both train/test set\n",
        "  vectorizer = TfidfVectorizer(stop_words='english')\n",
        "  X_train_vec_TFIDF = vectorizer.fit_transform(X_train_TFIDF)\n",
        "  X_test_vec_TFIDF = vectorizer.transform(X_test_TFIDF)\n",
        "\n",
        "  words = vectorizer.get_feature_names_out()\n",
        "  counts_TFIDF = X_train_vec_TFIDF.toarray().sum(axis=0)\n",
        "  counts_test_TFIDF = X_test_vec_TFIDF.toarray().sum(axis=0)\n",
        "\n",
        "  print(\"\\nTop words in Training Dataset:\")\n",
        "  df_words_TFIDF = pd.DataFrame({'words':words, 'count':counts_TFIDF}, columns=['words', 'count'])\n",
        "  print(df_words_TFIDF.sort_values(by=['count'], ascending=False).head(10))\n",
        "\n",
        "  print(\"\\nTop words in Test Dataset:\")\n",
        "  df_words_test_TFIDF = pd.DataFrame({'words':words, 'count':counts_test_TFIDF}, columns=['words', 'count'])\n",
        "  print(df_words_test_TFIDF.sort_values(by=['count'], ascending=False).head(10))\n",
        "\n",
        "  # Train the MultinomialNB model using the training vector and predict the outcomes for the test vector\n",
        "  my_model = MultinomialNB()\n",
        "  my_model.fit(X_train_vec_TFIDF, y_train)\n",
        "  y_pred_TFIDF = my_model.predict(X_test_vec_TFIDF)\n",
        "  y_true = y_test\n",
        "\n",
        "  prediction_results = pd.DataFrame({'Target':y_true, 'Prediction':y_pred_TFIDF}, columns=['Target', 'Prediction'])\n",
        "  print(\"\\nPrediction Results (Sample):\")\n",
        "  print(prediction_results.sample(n=10, random_state=280))\n",
        "\n",
        "  # Evaluate the model\n",
        "  cm = confusion_matrix(y_true, y_pred_TFIDF, labels=[1, 0])\n",
        "\n",
        "  ax = plt.subplot()\n",
        "  sns.heatmap(cm, annot=True, fmt='g', ax=ax)\n",
        "\n",
        "  ax.set_xlabel('Prediction')\n",
        "  ax.set_ylabel('Target')\n",
        "  ax.set_title('Confusion Matrix')\n",
        "  ax.xaxis.set_ticklabels(['positive', 'negative'])\n",
        "  ax.yaxis.set_ticklabels(['positive', 'negative'])\n",
        "\n",
        "  plt.show()\n",
        "\n",
        "  print(\"\\nClassification Report:\")\n",
        "  print(\"\\n\",classification_report(y_true, y_pred_TFIDF, labels=[1, 0], target_names=['Positive', 'Negative']))\n",
        "\n",
        "TfidfVectorizerMultinomialNB(X_train, X_test, y_train, y_test)"
      ],
      "metadata": {
        "colab": {
          "base_uri": "https://localhost:8080/",
          "height": 1000
        },
        "id": "zylPEUaPfdq3",
        "outputId": "b50a9afe-1c2c-4518-8c17-f82c641f87e9"
      },
      "execution_count": 11,
      "outputs": [
        {
          "output_type": "stream",
          "name": "stdout",
          "text": [
            "\n",
            "Top words in Training Dataset:\n",
            "            words       count\n",
            "5457         film  175.512878\n",
            "9346        movie  168.023663\n",
            "8360         like   94.628909\n",
            "7908         just   73.469005\n",
            "13730       story   73.279160\n",
            "6189         good   68.488305\n",
            "2730       comedy   64.084573\n",
            "14549        time   58.652414\n",
            "5892        funny   57.705050\n",
            "2290   characters   51.192049\n",
            "\n",
            "Top words in Test Dataset:\n",
            "            words      count\n",
            "5457         film  23.725302\n",
            "9346        movie  21.780618\n",
            "8360         like  14.187216\n",
            "13730       story  11.839444\n",
            "2730       comedy   9.460633\n",
            "6189         good   8.776612\n",
            "5892        funny   7.842955\n",
            "2290   characters   7.650223\n",
            "14549        time   7.342452\n",
            "15741         way   7.309073\n",
            "\n",
            "Prediction Results (Sample):\n",
            "     Target  Prediction\n",
            "901       0           1\n",
            "907       0           0\n",
            "465       1           1\n",
            "205       1           1\n",
            "577       0           1\n",
            "995       0           0\n",
            "347       1           1\n",
            "807       0           1\n",
            "530       1           1\n",
            "295       1           1\n"
          ]
        },
        {
          "output_type": "display_data",
          "data": {
            "text/plain": [
              "<Figure size 640x480 with 2 Axes>"
            ],
            "image/png": "[encoded data removed]"
          },
          "metadata": {}
        },
        {
          "output_type": "stream",
          "name": "stdout",
          "text": [
            "\n",
            "Classification Report:\n",
            "\n",
            "               precision    recall  f1-score   support\n",
            "\n",
            "    Positive       0.77      0.80      0.79       533\n",
            "    Negative       0.79      0.77      0.78       533\n",
            "\n",
            "    accuracy                           0.78      1066\n",
            "   macro avg       0.78      0.78      0.78      1066\n",
            "weighted avg       0.78      0.78      0.78      1066\n",
            "\n"
          ]
        }
      ]
    },
    {
      "cell_type": "markdown",
      "source": [
        "Conclusion: Using TF-IDF vectorizer increases the accuracy to 78%."
      ],
      "metadata": {
        "id": "jkcRKwvPiYkX"
      }
    },
    {
      "cell_type": "markdown",
      "source": [
        "### 2. Preprocessing the data"
      ],
      "metadata": {
        "id": "0RATtP5vif6f"
      }
    },
    {
      "cell_type": "markdown",
      "source": [
        "- Translate non-English reviews to English.  We will refer back to the original dataset before fitting and running the model."
      ],
      "metadata": {
        "id": "v8nQbGM8kiTb"
      }
    },
    {
      "cell_type": "code",
      "source": [
        "%%capture\n",
        "!pip install langdetect"
      ],
      "metadata": {
        "id": "xSUCv5xTklUQ"
      },
      "execution_count": 12,
      "outputs": []
    },
    {
      "cell_type": "code",
      "source": [
        "from langdetect import DetectorFactory\n",
        "from langdetect import detect\n",
        "DetectorFactory.seed = 0\n",
        "\n",
        "# Detect non-English reviews\n",
        "df['lang'] = df['text'].apply(detect)\n",
        "df_test['lang'] = df_test['text'].apply(detect)\n",
        "\n",
        "print(\"Top Languages in Training Dataset:\")\n",
        "print(df['lang'].value_counts().head())\n",
        "\n",
        "print(\"\\nTop Languages in Test Dataset:\")\n",
        "print(df_test['lang'].value_counts().head())\n",
        "\n",
        "print(\"\\nSample Non-English Reviews:\")\n",
        "print(df[df['lang'] != 'en'].sample(n=10, random_state=280))"
      ],
      "metadata": {
        "colab": {
          "base_uri": "https://localhost:8080/"
        },
        "id": "fUdB1YZzkv03",
        "outputId": "6697a518-be07-49ab-e8e3-31acf8199c69"
      },
      "execution_count": 13,
      "outputs": [
        {
          "output_type": "stream",
          "name": "stdout",
          "text": [
            "Top Languages in Training Dataset:\n",
            "en    8353\n",
            "es      30\n",
            "fr      25\n",
            "pt      19\n",
            "af      13\n",
            "Name: lang, dtype: int64\n",
            "\n",
            "Top Languages in Test Dataset:\n",
            "en    1046\n",
            "es       4\n",
            "no       3\n",
            "fr       2\n",
            "pt       2\n",
            "Name: lang, dtype: int64\n",
            "\n",
            "Sample Non-English Reviews:\n",
            "                                                   text  label lang\n",
            "1033                      escapism in its purest form .      1   ca\n",
            "440   recalls quiet freak-outs like l'avventura and ...      1   fr\n",
            "2096                    a quiet , disquieting triumph .      1   fr\n",
            "7026  un thriller manqué qui tombe sur les nerfs pre...      0   fr\n",
            "4722  responsável direto pelo fracasso 'artístico' d...      0   pt\n",
            "778      desta vez , columbus capturou o pomo de ouro .      1   pt\n",
            "1707     perhaps the best sports movie i've ever seen .      1   nl\n",
            "6934        don't let your festive spirit go this far .      0   fr\n",
            "4296                  the action clichés just pile up .      0   fr\n",
            "6326                   laughably , irredeemably awful .      0   cy\n"
          ]
        }
      ]
    },
    {
      "cell_type": "markdown",
      "source": [
        "We noticed that some non-English reviews are detected; however, not all non-English reviews are detected properly.  For translation, all texts will then be translated to English, regardless of the source language."
      ],
      "metadata": {
        "id": "HQtRcvIAue0O"
      }
    },
    {
      "cell_type": "code",
      "source": [
        "%%capture\n",
        "!pip install deep_translator"
      ],
      "metadata": {
        "id": "J3xnbqvmuK81"
      },
      "execution_count": 14,
      "outputs": []
    },
    {
      "cell_type": "code",
      "source": [
        "from deep_translator import GoogleTranslator\n",
        "\n",
        "df['trans_text'] = df['text'].apply(GoogleTranslator(source='auto', target='en').translate)\n",
        "df_test['trans_text'] = df_test['text'].apply(GoogleTranslator(source='auto', target='en').translate)"
      ],
      "metadata": {
        "id": "5vmFQbNBvHcI"
      },
      "execution_count": 15,
      "outputs": []
    },
    {
      "cell_type": "code",
      "source": [
        "df[df['lang'] != 'en']"
      ],
      "metadata": {
        "id": "GcJNlXdZ6QvL",
        "outputId": "8f2de27b-b8fb-4afa-bc87-06c08132129b",
        "colab": {
          "base_uri": "https://localhost:8080/",
          "height": 424
        }
      },
      "execution_count": 16,
      "outputs": [
        {
          "data": {
            "text/html": [
              "\n",
              "  <div id=\"df-8ee22244-32de-4398-ad8b-947c1ffb074f\" class=\"colab-df-container\">\n",
              "    <div>\n",
              "<style scoped>\n",
              "    .dataframe tbody tr th:only-of-type {\n",
              "        vertical-align: middle;\n",
              "    }\n",
              "\n",
              "    .dataframe tbody tr th {\n",
              "        vertical-align: top;\n",
              "    }\n",
              "\n",
              "    .dataframe thead th {\n",
              "        text-align: right;\n",
              "    }\n",
              "</style>\n",
              "<table border=\"1\" class=\"dataframe\">\n",
              "  <thead>\n",
              "    <tr style=\"text-align: right;\">\n",
              "      <th></th>\n",
              "      <th>text</th>\n",
              "      <th>label</th>\n",
              "      <th>lang</th>\n",
              "      <th>trans_text</th>\n",
              "    </tr>\n",
              "  </thead>\n",
              "  <tbody>\n",
              "    <tr>\n",
              "      <th>26</th>\n",
              "      <td>spiderman rocks</td>\n",
              "      <td>1</td>\n",
              "      <td>sv</td>\n",
              "      <td>spiderman rocks</td>\n",
              "    </tr>\n",
              "    <tr>\n",
              "      <th>43</th>\n",
              "      <td>'compleja e intelectualmente retadora , el lad...</td>\n",
              "      <td>1</td>\n",
              "      <td>es</td>\n",
              "      <td>'Complex and intellectually challenging, The O...</td>\n",
              "    </tr>\n",
              "    <tr>\n",
              "      <th>70</th>\n",
              "      <td>a taut , intelligent psychological drama .</td>\n",
              "      <td>1</td>\n",
              "      <td>ca</td>\n",
              "      <td>a taut , intelligent psychological drama .</td>\n",
              "    </tr>\n",
              "    <tr>\n",
              "      <th>153</th>\n",
              "      <td>must be seen to be believed .</td>\n",
              "      <td>1</td>\n",
              "      <td>nl</td>\n",
              "      <td>must be seen to be believed .</td>\n",
              "    </tr>\n",
              "    <tr>\n",
              "      <th>182</th>\n",
              "      <td>a very funny movie .</td>\n",
              "      <td>1</td>\n",
              "      <td>sk</td>\n",
              "      <td>a very funny movie .</td>\n",
              "    </tr>\n",
              "    <tr>\n",
              "      <th>...</th>\n",
              "      <td>...</td>\n",
              "      <td>...</td>\n",
              "      <td>...</td>\n",
              "      <td>...</td>\n",
              "    </tr>\n",
              "    <tr>\n",
              "      <th>8035</th>\n",
              "      <td>la de salma es una versión de frida superficia...</td>\n",
              "      <td>0</td>\n",
              "      <td>es</td>\n",
              "      <td>Salma's is a superficial, precious version of ...</td>\n",
              "    </tr>\n",
              "    <tr>\n",
              "      <th>8190</th>\n",
              "      <td>zigzag might have been richer and more observa...</td>\n",
              "      <td>0</td>\n",
              "      <td>nl</td>\n",
              "      <td>zigzag might have been richer and more observa...</td>\n",
              "    </tr>\n",
              "    <tr>\n",
              "      <th>8380</th>\n",
              "      <td>a well-crafted letdown .</td>\n",
              "      <td>0</td>\n",
              "      <td>cy</td>\n",
              "      <td>a well-crafted letdown .</td>\n",
              "    </tr>\n",
              "    <tr>\n",
              "      <th>8443</th>\n",
              "      <td>caso você sinta necessidade de sair da sala an...</td>\n",
              "      <td>0</td>\n",
              "      <td>pt</td>\n",
              "      <td>If you feel the need to leave the room before ...</td>\n",
              "    </tr>\n",
              "    <tr>\n",
              "      <th>8459</th>\n",
              "      <td>a lame comedy .</td>\n",
              "      <td>0</td>\n",
              "      <td>es</td>\n",
              "      <td>a lame comedy .</td>\n",
              "    </tr>\n",
              "  </tbody>\n",
              "</table>\n",
              "<p>177 rows × 4 columns</p>\n",
              "</div>\n",
              "    <div class=\"colab-df-buttons\">\n",
              "\n",
              "  <div class=\"colab-df-container\">\n",
              "    <button class=\"colab-df-convert\" onclick=\"convertToInteractive('df-8ee22244-32de-4398-ad8b-947c1ffb074f')\"\n",
              "            title=\"Convert this dataframe to an interactive table.\"\n",
              "            style=\"display:none;\">\n",
              "\n",
              "  <svg xmlns=\"http://www.w3.org/2000/svg\" height=\"24px\" viewBox=\"0 -960 960 960\">\n",
              "    <path d=\"M120-120v-720h720v720H120Zm60-500h600v-160H180v160Zm220 220h160v-160H400v160Zm0 220h160v-160H400v160ZM180-400h160v-160H180v160Zm440 0h160v-160H620v160ZM180-180h160v-160H180v160Zm440 0h160v-160H620v160Z\"/>\n",
              "  </svg>\n",
              "    </button>\n",
              "\n",
              "  <style>\n",
              "    .colab-df-container {\n",
              "      display:flex;\n",
              "      gap: 12px;\n",
              "    }\n",
              "\n",
              "    .colab-df-convert {\n",
              "      background-color: #E8F0FE;\n",
              "      border: none;\n",
              "      border-radius: 50%;\n",
              "      cursor: pointer;\n",
              "      display: none;\n",
              "      fill: #1967D2;\n",
              "      height: 32px;\n",
              "      padding: 0 0 0 0;\n",
              "      width: 32px;\n",
              "    }\n",
              "\n",
              "    .colab-df-convert:hover {\n",
              "      background-color: #E2EBFA;\n",
              "      box-shadow: 0px 1px 2px rgba(60, 64, 67, 0.3), 0px 1px 3px 1px rgba(60, 64, 67, 0.15);\n",
              "      fill: #174EA6;\n",
              "    }\n",
              "\n",
              "    .colab-df-buttons div {\n",
              "      margin-bottom: 4px;\n",
              "    }\n",
              "\n",
              "    [theme=dark] .colab-df-convert {\n",
              "      background-color: #3B4455;\n",
              "      fill: #D2E3FC;\n",
              "    }\n",
              "\n",
              "    [theme=dark] .colab-df-convert:hover {\n",
              "      background-color: #434B5C;\n",
              "      box-shadow: 0px 1px 3px 1px rgba(0, 0, 0, 0.15);\n",
              "      filter: drop-shadow(0px 1px 2px rgba(0, 0, 0, 0.3));\n",
              "      fill: #FFFFFF;\n",
              "    }\n",
              "  </style>\n",
              "\n",
              "    <script>\n",
              "      const buttonEl =\n",
              "        document.querySelector('#df-8ee22244-32de-4398-ad8b-947c1ffb074f button.colab-df-convert');\n",
              "      buttonEl.style.display =\n",
              "        google.colab.kernel.accessAllowed ? 'block' : 'none';\n",
              "\n",
              "      async function convertToInteractive(key) {\n",
              "        const element = document.querySelector('#df-8ee22244-32de-4398-ad8b-947c1ffb074f');\n",
              "        const dataTable =\n",
              "          await google.colab.kernel.invokeFunction('convertToInteractive',\n",
              "                                                    [key], {});\n",
              "        if (!dataTable) return;\n",
              "\n",
              "        const docLinkHtml = 'Like what you see? Visit the ' +\n",
              "          '<a target=\"_blank\" href=https://colab.research.google.com/notebooks/data_table.ipynb>data table notebook</a>'\n",
              "          + ' to learn more about interactive tables.';\n",
              "        element.innerHTML = '';\n",
              "        dataTable['output_type'] = 'display_data';\n",
              "        await google.colab.output.renderOutput(dataTable, element);\n",
              "        const docLink = document.createElement('div');\n",
              "        docLink.innerHTML = docLinkHtml;\n",
              "        element.appendChild(docLink);\n",
              "      }\n",
              "    </script>\n",
              "  </div>\n",
              "\n",
              "\n",
              "<div id=\"df-9e0510b5-92ba-403d-bcb0-3245e4da5954\">\n",
              "  <button class=\"colab-df-quickchart\" onclick=\"quickchart('df-9e0510b5-92ba-403d-bcb0-3245e4da5954')\"\n",
              "            title=\"Suggest charts.\"\n",
              "            style=\"display:none;\">\n",
              "\n",
              "<svg xmlns=\"http://www.w3.org/2000/svg\" height=\"24px\"viewBox=\"0 0 24 24\"\n",
              "     width=\"24px\">\n",
              "    <g>\n",
              "        <path d=\"M19 3H5c-1.1 0-2 .9-2 2v14c0 1.1.9 2 2 2h14c1.1 0 2-.9 2-2V5c0-1.1-.9-2-2-2zM9 17H7v-7h2v7zm4 0h-2V7h2v10zm4 0h-2v-4h2v4z\"/>\n",
              "    </g>\n",
              "</svg>\n",
              "  </button>\n",
              "\n",
              "<style>\n",
              "  .colab-df-quickchart {\n",
              "      --bg-color: #E8F0FE;\n",
              "      --fill-color: #1967D2;\n",
              "      --hover-bg-color: #E2EBFA;\n",
              "      --hover-fill-color: #174EA6;\n",
              "      --disabled-fill-color: #AAA;\n",
              "      --disabled-bg-color: #DDD;\n",
              "  }\n",
              "\n",
              "  [theme=dark] .colab-df-quickchart {\n",
              "      --bg-color: #3B4455;\n",
              "      --fill-color: #D2E3FC;\n",
              "      --hover-bg-color: #434B5C;\n",
              "      --hover-fill-color: #FFFFFF;\n",
              "      --disabled-bg-color: #3B4455;\n",
              "      --disabled-fill-color: #666;\n",
              "  }\n",
              "\n",
              "  .colab-df-quickchart {\n",
              "    background-color: var(--bg-color);\n",
              "    border: none;\n",
              "    border-radius: 50%;\n",
              "    cursor: pointer;\n",
              "    display: none;\n",
              "    fill: var(--fill-color);\n",
              "    height: 32px;\n",
              "    padding: 0;\n",
              "    width: 32px;\n",
              "  }\n",
              "\n",
              "  .colab-df-quickchart:hover {\n",
              "    background-color: var(--hover-bg-color);\n",
              "    box-shadow: 0 1px 2px rgba(60, 64, 67, 0.3), 0 1px 3px 1px rgba(60, 64, 67, 0.15);\n",
              "    fill: var(--button-hover-fill-color);\n",
              "  }\n",
              "\n",
              "  .colab-df-quickchart-complete:disabled,\n",
              "  .colab-df-quickchart-complete:disabled:hover {\n",
              "    background-color: var(--disabled-bg-color);\n",
              "    fill: var(--disabled-fill-color);\n",
              "    box-shadow: none;\n",
              "  }\n",
              "\n",
              "  .colab-df-spinner {\n",
              "    border: 2px solid var(--fill-color);\n",
              "    border-color: transparent;\n",
              "    border-bottom-color: var(--fill-color);\n",
              "    animation:\n",
              "      spin 1s steps(1) infinite;\n",
              "  }\n",
              "\n",
              "  @keyframes spin {\n",
              "    0% {\n",
              "      border-color: transparent;\n",
              "      border-bottom-color: var(--fill-color);\n",
              "      border-left-color: var(--fill-color);\n",
              "    }\n",
              "    20% {\n",
              "      border-color: transparent;\n",
              "      border-left-color: var(--fill-color);\n",
              "      border-top-color: var(--fill-color);\n",
              "    }\n",
              "    30% {\n",
              "      border-color: transparent;\n",
              "      border-left-color: var(--fill-color);\n",
              "      border-top-color: var(--fill-color);\n",
              "      border-right-color: var(--fill-color);\n",
              "    }\n",
              "    40% {\n",
              "      border-color: transparent;\n",
              "      border-right-color: var(--fill-color);\n",
              "      border-top-color: var(--fill-color);\n",
              "    }\n",
              "    60% {\n",
              "      border-color: transparent;\n",
              "      border-right-color: var(--fill-color);\n",
              "    }\n",
              "    80% {\n",
              "      border-color: transparent;\n",
              "      border-right-color: var(--fill-color);\n",
              "      border-bottom-color: var(--fill-color);\n",
              "    }\n",
              "    90% {\n",
              "      border-color: transparent;\n",
              "      border-bottom-color: var(--fill-color);\n",
              "    }\n",
              "  }\n",
              "</style>\n",
              "\n",
              "  <script>\n",
              "    async function quickchart(key) {\n",
              "      const quickchartButtonEl =\n",
              "        document.querySelector('#' + key + ' button');\n",
              "      quickchartButtonEl.disabled = true;  // To prevent multiple clicks.\n",
              "      quickchartButtonEl.classList.add('colab-df-spinner');\n",
              "      try {\n",
              "        const charts = await google.colab.kernel.invokeFunction(\n",
              "            'suggestCharts', [key], {});\n",
              "      } catch (error) {\n",
              "        console.error('Error during call to suggestCharts:', error);\n",
              "      }\n",
              "      quickchartButtonEl.classList.remove('colab-df-spinner');\n",
              "      quickchartButtonEl.classList.add('colab-df-quickchart-complete');\n",
              "    }\n",
              "    (() => {\n",
              "      let quickchartButtonEl =\n",
              "        document.querySelector('#df-9e0510b5-92ba-403d-bcb0-3245e4da5954 button');\n",
              "      quickchartButtonEl.style.display =\n",
              "        google.colab.kernel.accessAllowed ? 'block' : 'none';\n",
              "    })();\n",
              "  </script>\n",
              "</div>\n",
              "    </div>\n",
              "  </div>\n"
            ],
            "text/plain": [
              "                                                   text  label lang  \\\n",
              "26                                      spiderman rocks      1   sv   \n",
              "43    'compleja e intelectualmente retadora , el lad...      1   es   \n",
              "70           a taut , intelligent psychological drama .      1   ca   \n",
              "153                       must be seen to be believed .      1   nl   \n",
              "182                                a very funny movie .      1   sk   \n",
              "...                                                 ...    ...  ...   \n",
              "8035  la de salma es una versión de frida superficia...      0   es   \n",
              "8190  zigzag might have been richer and more observa...      0   nl   \n",
              "8380                           a well-crafted letdown .      0   cy   \n",
              "8443  caso você sinta necessidade de sair da sala an...      0   pt   \n",
              "8459                                    a lame comedy .      0   es   \n",
              "\n",
              "                                             trans_text  \n",
              "26                                      spiderman rocks  \n",
              "43    'Complex and intellectually challenging, The O...  \n",
              "70           a taut , intelligent psychological drama .  \n",
              "153                       must be seen to be believed .  \n",
              "182                                a very funny movie .  \n",
              "...                                                 ...  \n",
              "8035  Salma's is a superficial, precious version of ...  \n",
              "8190  zigzag might have been richer and more observa...  \n",
              "8380                           a well-crafted letdown .  \n",
              "8443  If you feel the need to leave the room before ...  \n",
              "8459                                    a lame comedy .  \n",
              "\n",
              "[177 rows x 4 columns]"
            ]
          },
          "execution_count": 16,
          "metadata": {},
          "output_type": "execute_result"
        }
      ]
    },
    {
      "cell_type": "markdown",
      "source": [
        "- Remove non-alphanumeric characters"
      ],
      "metadata": {
        "id": "zRhb6Zhof1el"
      }
    },
    {
      "cell_type": "code",
      "source": [
        "# Remove non-alphanumeric characters\n",
        "df['trans_text'] = df['trans_text'].replace(to_replace =r'[^0-9a-zA-Z\\s/[, ]+/g]+', value = '', regex = True)\n",
        "df_test['trans_text']  = df_test['trans_text'].replace(to_replace =r'[^0-9a-zA-Z\\s/[, ]+/g]+', value = '', regex = True)"
      ],
      "metadata": {
        "id": "cZa7-x_Yir6k"
      },
      "execution_count": 50,
      "outputs": []
    },
    {
      "cell_type": "code",
      "source": [
        "df_test['trans_text']"
      ],
      "metadata": {
        "id": "jR7Dl-R2b9Ub",
        "outputId": "46e0465a-93f7-4c0d-8bbc-0060559c5c26",
        "colab": {
          "base_uri": "https://localhost:8080/"
        }
      },
      "execution_count": 52,
      "outputs": [
        {
          "output_type": "execute_result",
          "data": {
            "text/plain": [
              "0       lovingly photographed in the manner of a golde...\n",
              "1                   consistently clever and suspenseful .\n",
              "2       it's like a \" big chill \" reunion of the baade...\n",
              "3       the story gives ample opportunity for large-sc...\n",
              "4                       red dragon \" never cuts corners .\n",
              "                              ...                        \n",
              "1061    a terrible movie that some people will neverth...\n",
              "1062    there are many definitions of 'time waster' bu...\n",
              "1063    as it stands , crocodile hunter has the hurrie...\n",
              "1064    the thing looks like a made-for-home-video qui...\n",
              "1065    enigma is well-made , but it's just too dry an...\n",
              "Name: trans_text, Length: 1066, dtype: object"
            ]
          },
          "metadata": {},
          "execution_count": 52
        }
      ]
    },
    {
      "cell_type": "markdown",
      "source": [
        "- Train and run the model"
      ],
      "metadata": {
        "id": "gsrBg2iRgLJa"
      }
    },
    {
      "cell_type": "code",
      "source": [
        "X_train_new = df['trans_text']\n",
        "y_train_new = df['label']\n",
        "\n",
        "X_test_new = df_test['trans_text']\n",
        "y_test_new = df_test['label']\n",
        "\n",
        "TfidfVectorizerMultinomialNB(X_train_new, X_test_new, y_train_new, y_test_new)"
      ],
      "metadata": {
        "id": "k9ggFQVyXzc7",
        "outputId": "0da6289f-6c6c-4011-d922-65d883c2a206",
        "colab": {
          "base_uri": "https://localhost:8080/",
          "height": 1000
        }
      },
      "execution_count": 18,
      "outputs": [
        {
          "metadata": {
            "tags": null
          },
          "name": "stdout",
          "output_type": "stream",
          "text": [
            "\n",
            "Top words in Training Dataset:\n",
            "            words       count\n",
            "5298         film  177.153007\n",
            "9119        movie  168.331134\n",
            "8157         like   94.663558\n",
            "7714         just   73.786076\n",
            "13370       story   73.616231\n",
            "6023         good   68.977380\n",
            "2673       comedy   64.273319\n",
            "14166        time   59.930962\n",
            "5727        funny   57.915128\n",
            "2243   characters   51.503599\n",
            "\n",
            "Top words in Test Dataset:\n",
            "            words      count\n",
            "5298         film  23.635684\n",
            "9119        movie  21.789102\n",
            "8157         like  14.221044\n",
            "13370       story  11.831691\n",
            "2673       comedy   9.459860\n",
            "6023         good   8.765173\n",
            "2243   characters   7.854297\n",
            "5727        funny   7.848569\n",
            "14166        time   7.540301\n",
            "15336         way   7.314247\n",
            "\n",
            "Prediction Results (Sample):\n",
            "     Target  Prediction\n",
            "901       0           1\n",
            "907       0           0\n",
            "465       1           1\n",
            "205       1           1\n",
            "577       0           1\n",
            "995       0           0\n",
            "347       1           1\n",
            "807       0           1\n",
            "530       1           1\n",
            "295       1           1\n"
          ]
        },
        {
          "data": {
            "image/png": "[encoded data removed]",
            "text/plain": [
              "<Figure size 640x480 with 2 Axes>"
            ]
          },
          "metadata": {},
          "output_type": "display_data"
        },
        {
          "metadata": {
            "tags": null
          },
          "name": "stdout",
          "output_type": "stream",
          "text": [
            "\n",
            "Classification Report:\n",
            "\n",
            "               precision    recall  f1-score   support\n",
            "\n",
            "    Positive       0.77      0.80      0.79       533\n",
            "    Negative       0.79      0.76      0.78       533\n",
            "\n",
            "    accuracy                           0.78      1066\n",
            "   macro avg       0.78      0.78      0.78      1066\n",
            "weighted avg       0.78      0.78      0.78      1066\n",
            "\n"
          ]
        }
      ]
    },
    {
      "cell_type": "markdown",
      "source": [
        "The change earned a few true positives but missed some true negatives.  Accuracy remains the same."
      ],
      "metadata": {
        "id": "-syFzAzJZlF5"
      }
    },
    {
      "cell_type": "markdown",
      "source": [
        "### 3. Using a Different Smoothing Parameter\n",
        "MultinomialNB uses an $\\alpha = 1$, by default. Here, we will see if changing the smoothing parameter affects accuracy."
      ],
      "metadata": {
        "id": "NxtaW3wyZwag"
      }
    },
    {
      "cell_type": "code",
      "source": [
        "def TfidfVectorizerMultinomialNB(X_train, X_test, y_train, y_test, alpha = 1.0, stop_words = True):\n",
        "  # Copy the train and test datasets\n",
        "  X_train_TFIDF = X_train.copy()\n",
        "  X_test_TFIDF = X_test.copy()\n",
        "  y_train = y_train.copy()\n",
        "  y_test = y_test.copy()\n",
        "\n",
        "  # Import TD-IDF Vectorizer\n",
        "  from sklearn.feature_extraction.text import TfidfVectorizer\n",
        "\n",
        "  # Fit the training set and transform both train/test set\n",
        "  if stop_words:\n",
        "    vectorizer = TfidfVectorizer(stop_words='english')\n",
        "  else:\n",
        "    vectorizer = TfidfVectorizer()\n",
        "  X_train_vec_TFIDF = vectorizer.fit_transform(X_train_TFIDF)\n",
        "  X_test_vec_TFIDF = vectorizer.transform(X_test_TFIDF)\n",
        "\n",
        "  words = vectorizer.get_feature_names_out()\n",
        "  counts_TFIDF = X_train_vec_TFIDF.toarray().sum(axis=0)\n",
        "  counts_test_TFIDF = X_test_vec_TFIDF.toarray().sum(axis=0)\n",
        "\n",
        "  print(\"\\nTop words in Training Dataset:\")\n",
        "  df_words_TFIDF = pd.DataFrame({'words':words, 'count':counts_TFIDF}, columns=['words', 'count'])\n",
        "  print(df_words_TFIDF.sort_values(by=['count'], ascending=False).head(10))\n",
        "\n",
        "  print(\"\\nTop words in Test Dataset:\")\n",
        "  df_words_test_TFIDF = pd.DataFrame({'words':words, 'count':counts_test_TFIDF}, columns=['words', 'count'])\n",
        "  print(df_words_test_TFIDF.sort_values(by=['count'], ascending=False).head(10))\n",
        "\n",
        "  # Train the MultinomialNB model using the training vector and predict the outcomes for the test vector\n",
        "  from sklearn.naive_bayes import MultinomialNB\n",
        "\n",
        "  my_model = MultinomialNB(alpha=alpha)\n",
        "  my_model.fit(X_train_vec_TFIDF, y_train)\n",
        "  y_pred_TFIDF = my_model.predict(X_test_vec_TFIDF)\n",
        "  y_true = y_test\n",
        "\n",
        "  prediction_results = pd.DataFrame({'Target':y_true, 'Prediction':y_pred_TFIDF}, columns=['Target', 'Prediction'])\n",
        "  print(\"\\nPrediction Results (Sample):\")\n",
        "  print(prediction_results.sample(n=10, random_state=280))\n",
        "\n",
        "  # Evaluate the model\n",
        "  cm = confusion_matrix(y_true, y_pred_TFIDF, labels=[1, 0])\n",
        "\n",
        "  ax = plt.subplot()\n",
        "  sns.heatmap(cm, annot=True, fmt='g', ax=ax)\n",
        "\n",
        "  ax.set_xlabel('Prediction')\n",
        "  ax.set_ylabel('Target')\n",
        "  ax.set_title('Confusion Matrix')\n",
        "  ax.xaxis.set_ticklabels(['positive', 'negative'])\n",
        "  ax.yaxis.set_ticklabels(['positive', 'negative'])\n",
        "\n",
        "  plt.show()\n",
        "\n",
        "  print(\"\\nClassification Report:\")\n",
        "  print(\"\\n\",classification_report(y_true, y_pred_TFIDF, labels=[1, 0], target_names=['Positive', 'Negative']))"
      ],
      "metadata": {
        "id": "NMychY3ZZ_ml"
      },
      "execution_count": 19,
      "outputs": []
    },
    {
      "cell_type": "code",
      "source": [
        "TfidfVectorizerMultinomialNB(X_train_new, X_test_new, y_train_new, y_test_new, alpha=0.5)"
      ],
      "metadata": {
        "id": "1zco2vvJaHPf",
        "outputId": "b2ed4a37-8af3-46cc-ea08-c3f66b737e26",
        "colab": {
          "base_uri": "https://localhost:8080/",
          "height": 1000
        }
      },
      "execution_count": 20,
      "outputs": [
        {
          "metadata": {
            "tags": null
          },
          "name": "stdout",
          "output_type": "stream",
          "text": [
            "\n",
            "Top words in Training Dataset:\n",
            "            words       count\n",
            "5298         film  177.153007\n",
            "9119        movie  168.331134\n",
            "8157         like   94.663558\n",
            "7714         just   73.786076\n",
            "13370       story   73.616231\n",
            "6023         good   68.977380\n",
            "2673       comedy   64.273319\n",
            "14166        time   59.930962\n",
            "5727        funny   57.915128\n",
            "2243   characters   51.503599\n",
            "\n",
            "Top words in Test Dataset:\n",
            "            words      count\n",
            "5298         film  23.635684\n",
            "9119        movie  21.789102\n",
            "8157         like  14.221044\n",
            "13370       story  11.831691\n",
            "2673       comedy   9.459860\n",
            "6023         good   8.765173\n",
            "2243   characters   7.854297\n",
            "5727        funny   7.848569\n",
            "14166        time   7.540301\n",
            "15336         way   7.314247\n",
            "\n",
            "Prediction Results (Sample):\n",
            "     Target  Prediction\n",
            "901       0           1\n",
            "907       0           0\n",
            "465       1           1\n",
            "205       1           1\n",
            "577       0           1\n",
            "995       0           0\n",
            "347       1           1\n",
            "807       0           1\n",
            "530       1           1\n",
            "295       1           1\n"
          ]
        },
        {
          "data": {
            "image/png": "[encoded data removed]",
            "text/plain": [
              "<Figure size 640x480 with 2 Axes>"
            ]
          },
          "metadata": {},
          "output_type": "display_data"
        },
        {
          "metadata": {
            "tags": null
          },
          "name": "stdout",
          "output_type": "stream",
          "text": [
            "\n",
            "Classification Report:\n",
            "\n",
            "               precision    recall  f1-score   support\n",
            "\n",
            "    Positive       0.76      0.79      0.78       533\n",
            "    Negative       0.78      0.76      0.77       533\n",
            "\n",
            "    accuracy                           0.77      1066\n",
            "   macro avg       0.77      0.77      0.77      1066\n",
            "weighted avg       0.77      0.77      0.77      1066\n",
            "\n"
          ]
        }
      ]
    },
    {
      "cell_type": "code",
      "source": [
        "TfidfVectorizerMultinomialNB(X_train_new, X_test_new, y_train_new, y_test_new, alpha=0.9)"
      ],
      "metadata": {
        "id": "_K9ZNkv6aPzj",
        "outputId": "3718fbc9-55f8-4785-d762-1ed469c00f9a",
        "colab": {
          "base_uri": "https://localhost:8080/",
          "height": 1000
        }
      },
      "execution_count": 21,
      "outputs": [
        {
          "metadata": {
            "tags": null
          },
          "name": "stdout",
          "output_type": "stream",
          "text": [
            "\n",
            "Top words in Training Dataset:\n",
            "            words       count\n",
            "5298         film  177.153007\n",
            "9119        movie  168.331134\n",
            "8157         like   94.663558\n",
            "7714         just   73.786076\n",
            "13370       story   73.616231\n",
            "6023         good   68.977380\n",
            "2673       comedy   64.273319\n",
            "14166        time   59.930962\n",
            "5727        funny   57.915128\n",
            "2243   characters   51.503599\n",
            "\n",
            "Top words in Test Dataset:\n",
            "            words      count\n",
            "5298         film  23.635684\n",
            "9119        movie  21.789102\n",
            "8157         like  14.221044\n",
            "13370       story  11.831691\n",
            "2673       comedy   9.459860\n",
            "6023         good   8.765173\n",
            "2243   characters   7.854297\n",
            "5727        funny   7.848569\n",
            "14166        time   7.540301\n",
            "15336         way   7.314247\n",
            "\n",
            "Prediction Results (Sample):\n",
            "     Target  Prediction\n",
            "901       0           1\n",
            "907       0           0\n",
            "465       1           1\n",
            "205       1           1\n",
            "577       0           1\n",
            "995       0           0\n",
            "347       1           1\n",
            "807       0           1\n",
            "530       1           1\n",
            "295       1           1\n"
          ]
        },
        {
          "data": {
            "image/png": "[encoded data removed]",
            "text/plain": [
              "<Figure size 640x480 with 2 Axes>"
            ]
          },
          "metadata": {},
          "output_type": "display_data"
        },
        {
          "metadata": {
            "tags": null
          },
          "name": "stdout",
          "output_type": "stream",
          "text": [
            "\n",
            "Classification Report:\n",
            "\n",
            "               precision    recall  f1-score   support\n",
            "\n",
            "    Positive       0.77      0.80      0.79       533\n",
            "    Negative       0.79      0.76      0.78       533\n",
            "\n",
            "    accuracy                           0.78      1066\n",
            "   macro avg       0.78      0.78      0.78      1066\n",
            "weighted avg       0.78      0.78      0.78      1066\n",
            "\n"
          ]
        }
      ]
    },
    {
      "cell_type": "code",
      "source": [
        "TfidfVectorizerMultinomialNB(X_train_new, X_test_new, y_train_new, y_test_new, alpha=2)"
      ],
      "metadata": {
        "id": "3jpR5XqeaWi4",
        "outputId": "5978814d-1eae-42f9-f20e-43347d8a160d",
        "colab": {
          "base_uri": "https://localhost:8080/",
          "height": 1000
        }
      },
      "execution_count": 22,
      "outputs": [
        {
          "metadata": {
            "tags": null
          },
          "name": "stdout",
          "output_type": "stream",
          "text": [
            "\n",
            "Top words in Training Dataset:\n",
            "            words       count\n",
            "5298         film  177.153007\n",
            "9119        movie  168.331134\n",
            "8157         like   94.663558\n",
            "7714         just   73.786076\n",
            "13370       story   73.616231\n",
            "6023         good   68.977380\n",
            "2673       comedy   64.273319\n",
            "14166        time   59.930962\n",
            "5727        funny   57.915128\n",
            "2243   characters   51.503599\n",
            "\n",
            "Top words in Test Dataset:\n",
            "            words      count\n",
            "5298         film  23.635684\n",
            "9119        movie  21.789102\n",
            "8157         like  14.221044\n",
            "13370       story  11.831691\n",
            "2673       comedy   9.459860\n",
            "6023         good   8.765173\n",
            "2243   characters   7.854297\n",
            "5727        funny   7.848569\n",
            "14166        time   7.540301\n",
            "15336         way   7.314247\n",
            "\n",
            "Prediction Results (Sample):\n",
            "     Target  Prediction\n",
            "901       0           1\n",
            "907       0           0\n",
            "465       1           1\n",
            "205       1           1\n",
            "577       0           1\n",
            "995       0           0\n",
            "347       1           1\n",
            "807       0           1\n",
            "530       1           1\n",
            "295       1           1\n"
          ]
        },
        {
          "data": {
            "image/png": "[encoded data removed]",
            "text/plain": [
              "<Figure size 640x480 with 2 Axes>"
            ]
          },
          "metadata": {},
          "output_type": "display_data"
        },
        {
          "metadata": {
            "tags": null
          },
          "name": "stdout",
          "output_type": "stream",
          "text": [
            "\n",
            "Classification Report:\n",
            "\n",
            "               precision    recall  f1-score   support\n",
            "\n",
            "    Positive       0.76      0.81      0.78       533\n",
            "    Negative       0.80      0.75      0.77       533\n",
            "\n",
            "    accuracy                           0.78      1066\n",
            "   macro avg       0.78      0.78      0.78      1066\n",
            "weighted avg       0.78      0.78      0.78      1066\n",
            "\n"
          ]
        }
      ]
    },
    {
      "cell_type": "markdown",
      "source": [
        "Using a different smoothing parameter did not change the accuracy.  Max is still at 78% at $\\alpha=2$"
      ],
      "metadata": {
        "id": "BuTIA3SibEt5"
      }
    },
    {
      "cell_type": "markdown",
      "source": [
        "### 4. Using Complement Naive Bayes Model"
      ],
      "metadata": {
        "id": "QXy_cosvbPtv"
      }
    },
    {
      "cell_type": "code",
      "source": [
        "def TfidfVectorizerComplementNB(X_train, X_test, y_train, y_test, alpha=1.0, stop_words=True):\n",
        "  # Copy the train and test datasets\n",
        "  X_train_TFIDF = X_train.copy()\n",
        "  X_test_TFIDF = X_test.copy()\n",
        "  y_train = y_train.copy()\n",
        "  y_test = y_test.copy()\n",
        "\n",
        "  # Import TD-IDF Vectorizer\n",
        "  from sklearn.feature_extraction.text import TfidfVectorizer\n",
        "\n",
        "  # Fit the training set and transform both train/test set\n",
        "  if stop_words:\n",
        "    vectorizer = TfidfVectorizer(stop_words='english')\n",
        "  else:\n",
        "    vectorizer = TfidfVectorizer()\n",
        "\n",
        "  X_train_vec_TFIDF = vectorizer.fit_transform(X_train_TFIDF)\n",
        "  X_test_vec_TFIDF = vectorizer.transform(X_test_TFIDF)\n",
        "\n",
        "  words = vectorizer.get_feature_names_out()\n",
        "  counts_TFIDF = X_train_vec_TFIDF.toarray().sum(axis=0)\n",
        "  counts_test_TFIDF = X_test_vec_TFIDF.toarray().sum(axis=0)\n",
        "\n",
        "  print(\"\\nTop words in Training Dataset:\")\n",
        "  df_words_TFIDF = pd.DataFrame({'words':words, 'count':counts_TFIDF}, columns=['words', 'count'])\n",
        "  print(df_words_TFIDF.sort_values(by=['count'], ascending=False).head(10))\n",
        "\n",
        "  print(\"\\nTop words in Test Dataset:\")\n",
        "  df_words_test_TFIDF = pd.DataFrame({'words':words, 'count':counts_test_TFIDF}, columns=['words', 'count'])\n",
        "  print(df_words_test_TFIDF.sort_values(by=['count'], ascending=False).head(10))\n",
        "\n",
        "  # Train the ComplementNB model using the training vector and predict the outcomes for the test vector\n",
        "  from sklearn.naive_bayes import ComplementNB\n",
        "\n",
        "  my_model = ComplementNB(alpha=alpha)\n",
        "  my_model.fit(X_train_vec_TFIDF, y_train)\n",
        "  y_pred_TFIDF = my_model.predict(X_test_vec_TFIDF)\n",
        "  y_true = y_test\n",
        "\n",
        "  prediction_results = pd.DataFrame({'Target':y_true, 'Prediction':y_pred_TFIDF}, columns=['Target', 'Prediction'])\n",
        "  print(\"\\nPrediction Results (Sample):\")\n",
        "  print(prediction_results.sample(n=10, random_state=280))\n",
        "\n",
        "  # Evaluate the model\n",
        "  cm = confusion_matrix(y_true, y_pred_TFIDF, labels=[1, 0])\n",
        "\n",
        "  ax = plt.subplot()\n",
        "  sns.heatmap(cm, annot=True, fmt='g', ax=ax)\n",
        "\n",
        "  ax.set_xlabel('Prediction')\n",
        "  ax.set_ylabel('Target')\n",
        "  ax.set_title('Confusion Matrix')\n",
        "  ax.xaxis.set_ticklabels(['positive', 'negative'])\n",
        "  ax.yaxis.set_ticklabels(['positive', 'negative'])\n",
        "\n",
        "  plt.show()\n",
        "\n",
        "  print(\"\\nClassification Report:\")\n",
        "  print(\"\\n\",classification_report(y_true, y_pred_TFIDF, labels=[1, 0], target_names=['Positive', 'Negative']))\n",
        "\n",
        "  return y_pred_TFIDF"
      ],
      "metadata": {
        "id": "kd3xWfyIbO1R"
      },
      "execution_count": 38,
      "outputs": []
    },
    {
      "cell_type": "code",
      "source": [
        "TfidfVectorizerComplementNB(X_train_new, X_test_new, y_train_new, y_test_new)"
      ],
      "metadata": {
        "id": "rnllxRtgb7ME",
        "outputId": "4d9ef0b0-0bb9-4496-9931-c1ef4893fdee",
        "colab": {
          "base_uri": "https://localhost:8080/",
          "height": 1000
        }
      },
      "execution_count": 32,
      "outputs": [
        {
          "output_type": "stream",
          "name": "stdout",
          "text": [
            "\n",
            "Top words in Training Dataset:\n",
            "            words       count\n",
            "5298         film  177.153007\n",
            "9119        movie  168.331134\n",
            "8157         like   94.663558\n",
            "7714         just   73.786076\n",
            "13370       story   73.616231\n",
            "6023         good   68.977380\n",
            "2673       comedy   64.273319\n",
            "14166        time   59.930962\n",
            "5727        funny   57.915128\n",
            "2243   characters   51.503599\n",
            "\n",
            "Top words in Test Dataset:\n",
            "            words      count\n",
            "5298         film  23.635684\n",
            "9119        movie  21.789102\n",
            "8157         like  14.221044\n",
            "13370       story  11.831691\n",
            "2673       comedy   9.459860\n",
            "6023         good   8.765173\n",
            "2243   characters   7.854297\n",
            "5727        funny   7.848569\n",
            "14166        time   7.540301\n",
            "15336         way   7.314247\n",
            "\n",
            "Prediction Results (Sample):\n",
            "     Target  Prediction\n",
            "901       0           1\n",
            "907       0           0\n",
            "465       1           1\n",
            "205       1           1\n",
            "577       0           1\n",
            "995       0           0\n",
            "347       1           1\n",
            "807       0           1\n",
            "530       1           1\n",
            "295       1           1\n"
          ]
        },
        {
          "output_type": "display_data",
          "data": {
            "text/plain": [
              "<Figure size 640x480 with 2 Axes>"
            ],
            "image/png": "[encoded data removed]"
          },
          "metadata": {}
        },
        {
          "output_type": "stream",
          "name": "stdout",
          "text": [
            "\n",
            "Classification Report:\n",
            "\n",
            "               precision    recall  f1-score   support\n",
            "\n",
            "    Positive       0.77      0.80      0.79       533\n",
            "    Negative       0.79      0.76      0.78       533\n",
            "\n",
            "    accuracy                           0.78      1066\n",
            "   macro avg       0.78      0.78      0.78      1066\n",
            "weighted avg       0.78      0.78      0.78      1066\n",
            "\n"
          ]
        }
      ]
    },
    {
      "cell_type": "markdown",
      "source": [
        "Using ComplementNB did not improve the accuracy. Still at 78%"
      ],
      "metadata": {
        "id": "danhqOL2c6b3"
      }
    },
    {
      "cell_type": "markdown",
      "source": [
        "### 5. Include Stop Words\n",
        "Previous iterations exclude stop words.  In this section, we try to include stop words again and see if there is any improvement in accuracy:"
      ],
      "metadata": {
        "id": "n9nBNzwrdNvF"
      }
    },
    {
      "cell_type": "code",
      "source": [
        "y_predicted = TfidfVectorizerComplementNB(X_train_new, X_test_new, y_train_new, y_test_new, stop_words=False)"
      ],
      "metadata": {
        "id": "TQOVdW6Hcw6I",
        "outputId": "c868e5eb-35bd-4381-e167-f73d7873dc3e",
        "colab": {
          "base_uri": "https://localhost:8080/",
          "height": 1000
        }
      },
      "execution_count": 39,
      "outputs": [
        {
          "output_type": "stream",
          "name": "stdout",
          "text": [
            "\n",
            "Top words in Training Dataset:\n",
            "      words       count\n",
            "14255   the  484.612914\n",
            "9743     of  343.807762\n",
            "648     and  341.014107\n",
            "14442    to  276.464180\n",
            "7634     it  261.931782\n",
            "7621     is  250.716107\n",
            "7157     in  202.960127\n",
            "14253  that  200.565146\n",
            "893      as  169.257365\n",
            "5385   film  156.801311\n",
            "\n",
            "Top words in Test Dataset:\n",
            "      words      count\n",
            "14255   the  65.979870\n",
            "648     and  45.909552\n",
            "9743     of  44.273450\n",
            "14442    to  35.229344\n",
            "7634     it  34.595345\n",
            "7621     is  32.823368\n",
            "7157     in  27.785919\n",
            "893      as  26.272220\n",
            "14253  that  24.897434\n",
            "5385   film  20.618237\n",
            "\n",
            "Prediction Results (Sample):\n",
            "     Target  Prediction\n",
            "901       0           1\n",
            "907       0           0\n",
            "465       1           1\n",
            "205       1           1\n",
            "577       0           1\n",
            "995       0           0\n",
            "347       1           1\n",
            "807       0           1\n",
            "530       1           1\n",
            "295       1           1\n"
          ]
        },
        {
          "output_type": "display_data",
          "data": {
            "text/plain": [
              "<Figure size 640x480 with 2 Axes>"
            ],
            "image/png": "[encoded data removed]"
          },
          "metadata": {}
        },
        {
          "output_type": "stream",
          "name": "stdout",
          "text": [
            "\n",
            "Classification Report:\n",
            "\n",
            "               precision    recall  f1-score   support\n",
            "\n",
            "    Positive       0.80      0.79      0.80       533\n",
            "    Negative       0.79      0.81      0.80       533\n",
            "\n",
            "    accuracy                           0.80      1066\n",
            "   macro avg       0.80      0.80      0.80      1066\n",
            "weighted avg       0.80      0.80      0.80      1066\n",
            "\n"
          ]
        }
      ]
    },
    {
      "cell_type": "markdown",
      "source": [
        "We see a jump in accuracy, from 78% to 80%. Let's try including the stop words for MutinomialNB."
      ],
      "metadata": {
        "id": "91b2pQTdewdS"
      }
    },
    {
      "cell_type": "code",
      "source": [
        "TfidfVectorizerMultinomialNB(X_train_new, X_test_new, y_train_new, y_test_new, stop_words=False)"
      ],
      "metadata": {
        "id": "98CNcOGWe28V",
        "outputId": "84304574-ee1c-4368-9a9d-e90bf2fee578",
        "colab": {
          "base_uri": "https://localhost:8080/",
          "height": 1000
        }
      },
      "execution_count": 26,
      "outputs": [
        {
          "metadata": {
            "tags": null
          },
          "name": "stdout",
          "output_type": "stream",
          "text": [
            "\n",
            "Top words in Training Dataset:\n",
            "      words       count\n",
            "14255   the  484.612914\n",
            "9743     of  343.807762\n",
            "648     and  341.014107\n",
            "14442    to  276.464180\n",
            "7634     it  261.931782\n",
            "7621     is  250.716107\n",
            "7157     in  202.960127\n",
            "14253  that  200.565146\n",
            "893      as  169.257365\n",
            "5385   film  156.801311\n",
            "\n",
            "Top words in Test Dataset:\n",
            "      words      count\n",
            "14255   the  65.979870\n",
            "648     and  45.909552\n",
            "9743     of  44.273450\n",
            "14442    to  35.229344\n",
            "7634     it  34.595345\n",
            "7621     is  32.823368\n",
            "7157     in  27.785919\n",
            "893      as  26.272220\n",
            "14253  that  24.897434\n",
            "5385   film  20.618237\n",
            "\n",
            "Prediction Results (Sample):\n",
            "     Target  Prediction\n",
            "901       0           1\n",
            "907       0           0\n",
            "465       1           1\n",
            "205       1           1\n",
            "577       0           1\n",
            "995       0           0\n",
            "347       1           1\n",
            "807       0           1\n",
            "530       1           1\n",
            "295       1           1\n"
          ]
        },
        {
          "data": {
            "image/png": "[encoded data removed]",
            "text/plain": [
              "<Figure size 640x480 with 2 Axes>"
            ]
          },
          "metadata": {},
          "output_type": "display_data"
        },
        {
          "metadata": {
            "tags": null
          },
          "name": "stdout",
          "output_type": "stream",
          "text": [
            "\n",
            "Classification Report:\n",
            "\n",
            "               precision    recall  f1-score   support\n",
            "\n",
            "    Positive       0.80      0.79      0.80       533\n",
            "    Negative       0.79      0.81      0.80       533\n",
            "\n",
            "    accuracy                           0.80      1066\n",
            "   macro avg       0.80      0.80      0.80      1066\n",
            "weighted avg       0.80      0.80      0.80      1066\n",
            "\n"
          ]
        }
      ]
    },
    {
      "cell_type": "markdown",
      "source": [
        "We see that including stop words achieves 80% for both ComplementNB and MultinomialNB. This becomes a new area of interest as to why the model achieves better results when stop words are included."
      ],
      "metadata": {
        "id": "4oFu4r_-gkwC"
      }
    },
    {
      "cell_type": "code",
      "source": [
        "# ------------------------------------------------------------------------\n",
        "# TODO: INSERT CODE HERE\n",
        "# Feel free to install and import new packages.\n",
        "# You may break apart your code to muliple blocks.\n",
        "#\n",
        "# Store your new NB model to my_model.\n",
        "# If needed, use new variable names so they won't override the variables\n",
        "# used in the previous questions. Otherwise, this might affect the variables'\n",
        "# values, which would impact your scores.\n",
        "#\n",
        "# For checking purposes, export your model (e.g., via pickle).\n",
        "# Be prepared to present this in case of any clarifications.\n",
        "#\n",
        "# Make sure to document each step of your ML process.\n",
        "#\n",
        "# Finally, print the classification_report of your model.\n",
        "# We will only check the accuracy, but the other metrics might still be\n",
        "# helpful in this task.\n",
        "# ------------------------------------------------------------------------"
      ],
      "metadata": {
        "id": "7ZJMUq-_23jr"
      },
      "execution_count": 27,
      "outputs": []
    },
    {
      "cell_type": "markdown",
      "source": [
        "## Q6 [2 pts] Explaining the model\n",
        "\n",
        "Check the misclassified reviews and find patterns that could explain why the model struggles to classify them correctly. Write a short essay explaining your findings. Don't forget to cite your sources.\n",
        "\n",
        "<br>\n",
        "\n",
        "Suggested questions:\n",
        "1. Are misclassified reviews more likely to contain specific words or phrases that could indicate confusion or ambiguity?\n",
        "2. Is there a common length or structure to misclassified reviews, such as unusually short or long ones?\n",
        "3. Do misclassified reviews tend to focus on specific topics or themes that might pose challenges for classification?\n",
        "4. Are there any recurring sentiment-related patterns in the misclassified reviews, such as mixed sentiments or sarcasm, that make the model struggle to identify?\n",
        "5. Do reviews that include slang, abbreviations, or informal language have a higher likelihood of being misclassified?\n",
        "\n",
        "\n",
        "Suggested references:\n",
        "* [Rizal et al.](https://ieeexplore.ieee.org/document/10030009), Sentiment Analysis on Movie Review from Rotten Tomatoes Using Word2Vec and Naive Bayes, 2022\n",
        "* [Liang](https://cs229.stanford.edu/proj2006/Liang-SentimentClassification.pdf), Rotten Tomatoes: Sentiment Classification in Movie Reviews, 2006\n",
        "* [Hung](https://cseweb.ucsd.edu/classes/sp15/cse190-c/reports/sp15/049.pdf), Sentiment Analysis Classification for Rotten Tomatoes Phrases on Kaggle"
      ],
      "metadata": {
        "id": "7gTSDxYfZ2Xn"
      }
    },
    {
      "cell_type": "code",
      "source": [
        "from google.colab import drive\n",
        "drive.mount('drive')\n",
        "\n",
        "df_test.to_csv('df_test.csv')"
      ],
      "metadata": {
        "id": "9c9kQsNCaGEI",
        "outputId": "a78f69b5-416b-48ff-ebc9-ea7fcb1e60f3",
        "colab": {
          "base_uri": "https://localhost:8080/"
        }
      },
      "execution_count": 48,
      "outputs": [
        {
          "output_type": "stream",
          "name": "stdout",
          "text": [
            "Mounted at drive\n",
            "cp: cannot stat 'data.csv': No such file or directory\n"
          ]
        }
      ]
    },
    {
      "cell_type": "code",
      "source": [
        "!cp df_test.csv \"drive/My Drive/\""
      ],
      "metadata": {
        "id": "Jr7HQPyVa0NS"
      },
      "execution_count": 49,
      "outputs": []
    },
    {
      "cell_type": "code",
      "source": [
        "df_test['predicted'] = y_predicted\n",
        "\n",
        "def checker(y_label, y_pred):\n",
        "  if y_pred == 1:\n",
        "    if y_pred == y_label: return \"True Positive\"\n",
        "    else: return \"False Positive\"\n",
        "  else:\n",
        "    if y_pred == y_label: return \"True Negative\"\n",
        "    else: return \"False Negative\"\n",
        "\n",
        "df_test[\"Prediction\"] = df_test.apply(lambda row: checker(row['label'], row['predicted']), axis=1)\n",
        "df_test['len'] = df_test['trans_text'].apply(len)\n",
        "df_test"
      ],
      "metadata": {
        "id": "oZr1GiRwljcW",
        "outputId": "8b93f7b2-c0fd-48c9-91b3-7cea44a7ff58",
        "colab": {
          "base_uri": "https://localhost:8080/",
          "height": 424
        }
      },
      "execution_count": 42,
      "outputs": [
        {
          "output_type": "execute_result",
          "data": {
            "text/plain": [
              "                                                   text  label lang  \\\n",
              "0     lovingly photographed in the manner of a golde...      1   en   \n",
              "1                 consistently clever and suspenseful .      1   en   \n",
              "2     it's like a \" big chill \" reunion of the baade...      1   en   \n",
              "3     the story gives ample opportunity for large-sc...      1   en   \n",
              "4                     red dragon \" never cuts corners .      1   en   \n",
              "...                                                 ...    ...  ...   \n",
              "1061  a terrible movie that some people will neverth...      0   en   \n",
              "1062  there are many definitions of 'time waster' bu...      0   en   \n",
              "1063  as it stands , crocodile hunter has the hurrie...      0   en   \n",
              "1064  the thing looks like a made-for-home-video qui...      0   en   \n",
              "1065  enigma is well-made , but it's just too dry an...      0   en   \n",
              "\n",
              "                                             trans_text  predicted  \\\n",
              "0     lovingly photographed in the manner of a golde...          1   \n",
              "1                 consistently clever and suspenseful .          1   \n",
              "2     it's like a \" big chill \" reunion of the baade...          0   \n",
              "3     the story gives ample opportunity for large-sc...          1   \n",
              "4                     red dragon \" never cuts corners .          1   \n",
              "...                                                 ...        ...   \n",
              "1061  a terrible movie that some people will neverth...          1   \n",
              "1062  there are many definitions of 'time waster' bu...          1   \n",
              "1063  as it stands , crocodile hunter has the hurrie...          0   \n",
              "1064  the thing looks like a made-for-home-video qui...          0   \n",
              "1065  enigma is well-made , but it's just too dry an...          0   \n",
              "\n",
              "          Prediction  len  \n",
              "0      True Positive  132  \n",
              "1      True Positive   37  \n",
              "2     False Negative  134  \n",
              "3      True Positive  133  \n",
              "4      True Positive   33  \n",
              "...              ...  ...  \n",
              "1061  False Positive   65  \n",
              "1062  False Positive   87  \n",
              "1063   True Negative  225  \n",
              "1064   True Negative   52  \n",
              "1065   True Negative   60  \n",
              "\n",
              "[1066 rows x 7 columns]"
            ],
            "text/html": [
              "\n",
              "  <div id=\"df-159d3f7b-5d22-4b5f-9228-5256e26ced17\" class=\"colab-df-container\">\n",
              "    <div>\n",
              "<style scoped>\n",
              "    .dataframe tbody tr th:only-of-type {\n",
              "        vertical-align: middle;\n",
              "    }\n",
              "\n",
              "    .dataframe tbody tr th {\n",
              "        vertical-align: top;\n",
              "    }\n",
              "\n",
              "    .dataframe thead th {\n",
              "        text-align: right;\n",
              "    }\n",
              "</style>\n",
              "<table border=\"1\" class=\"dataframe\">\n",
              "  <thead>\n",
              "    <tr style=\"text-align: right;\">\n",
              "      <th></th>\n",
              "      <th>text</th>\n",
              "      <th>label</th>\n",
              "      <th>lang</th>\n",
              "      <th>trans_text</th>\n",
              "      <th>predicted</th>\n",
              "      <th>Prediction</th>\n",
              "      <th>len</th>\n",
              "    </tr>\n",
              "  </thead>\n",
              "  <tbody>\n",
              "    <tr>\n",
              "      <th>0</th>\n",
              "      <td>lovingly photographed in the manner of a golde...</td>\n",
              "      <td>1</td>\n",
              "      <td>en</td>\n",
              "      <td>lovingly photographed in the manner of a golde...</td>\n",
              "      <td>1</td>\n",
              "      <td>True Positive</td>\n",
              "      <td>132</td>\n",
              "    </tr>\n",
              "    <tr>\n",
              "      <th>1</th>\n",
              "      <td>consistently clever and suspenseful .</td>\n",
              "      <td>1</td>\n",
              "      <td>en</td>\n",
              "      <td>consistently clever and suspenseful .</td>\n",
              "      <td>1</td>\n",
              "      <td>True Positive</td>\n",
              "      <td>37</td>\n",
              "    </tr>\n",
              "    <tr>\n",
              "      <th>2</th>\n",
              "      <td>it's like a \" big chill \" reunion of the baade...</td>\n",
              "      <td>1</td>\n",
              "      <td>en</td>\n",
              "      <td>it's like a \" big chill \" reunion of the baade...</td>\n",
              "      <td>0</td>\n",
              "      <td>False Negative</td>\n",
              "      <td>134</td>\n",
              "    </tr>\n",
              "    <tr>\n",
              "      <th>3</th>\n",
              "      <td>the story gives ample opportunity for large-sc...</td>\n",
              "      <td>1</td>\n",
              "      <td>en</td>\n",
              "      <td>the story gives ample opportunity for large-sc...</td>\n",
              "      <td>1</td>\n",
              "      <td>True Positive</td>\n",
              "      <td>133</td>\n",
              "    </tr>\n",
              "    <tr>\n",
              "      <th>4</th>\n",
              "      <td>red dragon \" never cuts corners .</td>\n",
              "      <td>1</td>\n",
              "      <td>en</td>\n",
              "      <td>red dragon \" never cuts corners .</td>\n",
              "      <td>1</td>\n",
              "      <td>True Positive</td>\n",
              "      <td>33</td>\n",
              "    </tr>\n",
              "    <tr>\n",
              "      <th>...</th>\n",
              "      <td>...</td>\n",
              "      <td>...</td>\n",
              "      <td>...</td>\n",
              "      <td>...</td>\n",
              "      <td>...</td>\n",
              "      <td>...</td>\n",
              "      <td>...</td>\n",
              "    </tr>\n",
              "    <tr>\n",
              "      <th>1061</th>\n",
              "      <td>a terrible movie that some people will neverth...</td>\n",
              "      <td>0</td>\n",
              "      <td>en</td>\n",
              "      <td>a terrible movie that some people will neverth...</td>\n",
              "      <td>1</td>\n",
              "      <td>False Positive</td>\n",
              "      <td>65</td>\n",
              "    </tr>\n",
              "    <tr>\n",
              "      <th>1062</th>\n",
              "      <td>there are many definitions of 'time waster' bu...</td>\n",
              "      <td>0</td>\n",
              "      <td>en</td>\n",
              "      <td>there are many definitions of 'time waster' bu...</td>\n",
              "      <td>1</td>\n",
              "      <td>False Positive</td>\n",
              "      <td>87</td>\n",
              "    </tr>\n",
              "    <tr>\n",
              "      <th>1063</th>\n",
              "      <td>as it stands , crocodile hunter has the hurrie...</td>\n",
              "      <td>0</td>\n",
              "      <td>en</td>\n",
              "      <td>as it stands , crocodile hunter has the hurrie...</td>\n",
              "      <td>0</td>\n",
              "      <td>True Negative</td>\n",
              "      <td>225</td>\n",
              "    </tr>\n",
              "    <tr>\n",
              "      <th>1064</th>\n",
              "      <td>the thing looks like a made-for-home-video qui...</td>\n",
              "      <td>0</td>\n",
              "      <td>en</td>\n",
              "      <td>the thing looks like a made-for-home-video qui...</td>\n",
              "      <td>0</td>\n",
              "      <td>True Negative</td>\n",
              "      <td>52</td>\n",
              "    </tr>\n",
              "    <tr>\n",
              "      <th>1065</th>\n",
              "      <td>enigma is well-made , but it's just too dry an...</td>\n",
              "      <td>0</td>\n",
              "      <td>en</td>\n",
              "      <td>enigma is well-made , but it's just too dry an...</td>\n",
              "      <td>0</td>\n",
              "      <td>True Negative</td>\n",
              "      <td>60</td>\n",
              "    </tr>\n",
              "  </tbody>\n",
              "</table>\n",
              "<p>1066 rows × 7 columns</p>\n",
              "</div>\n",
              "    <div class=\"colab-df-buttons\">\n",
              "\n",
              "  <div class=\"colab-df-container\">\n",
              "    <button class=\"colab-df-convert\" onclick=\"convertToInteractive('df-159d3f7b-5d22-4b5f-9228-5256e26ced17')\"\n",
              "            title=\"Convert this dataframe to an interactive table.\"\n",
              "            style=\"display:none;\">\n",
              "\n",
              "  <svg xmlns=\"http://www.w3.org/2000/svg\" height=\"24px\" viewBox=\"0 -960 960 960\">\n",
              "    <path d=\"M120-120v-720h720v720H120Zm60-500h600v-160H180v160Zm220 220h160v-160H400v160Zm0 220h160v-160H400v160ZM180-400h160v-160H180v160Zm440 0h160v-160H620v160ZM180-180h160v-160H180v160Zm440 0h160v-160H620v160Z\"/>\n",
              "  </svg>\n",
              "    </button>\n",
              "\n",
              "  <style>\n",
              "    .colab-df-container {\n",
              "      display:flex;\n",
              "      gap: 12px;\n",
              "    }\n",
              "\n",
              "    .colab-df-convert {\n",
              "      background-color: #E8F0FE;\n",
              "      border: none;\n",
              "      border-radius: 50%;\n",
              "      cursor: pointer;\n",
              "      display: none;\n",
              "      fill: #1967D2;\n",
              "      height: 32px;\n",
              "      padding: 0 0 0 0;\n",
              "      width: 32px;\n",
              "    }\n",
              "\n",
              "    .colab-df-convert:hover {\n",
              "      background-color: #E2EBFA;\n",
              "      box-shadow: 0px 1px 2px rgba(60, 64, 67, 0.3), 0px 1px 3px 1px rgba(60, 64, 67, 0.15);\n",
              "      fill: #174EA6;\n",
              "    }\n",
              "\n",
              "    .colab-df-buttons div {\n",
              "      margin-bottom: 4px;\n",
              "    }\n",
              "\n",
              "    [theme=dark] .colab-df-convert {\n",
              "      background-color: #3B4455;\n",
              "      fill: #D2E3FC;\n",
              "    }\n",
              "\n",
              "    [theme=dark] .colab-df-convert:hover {\n",
              "      background-color: #434B5C;\n",
              "      box-shadow: 0px 1px 3px 1px rgba(0, 0, 0, 0.15);\n",
              "      filter: drop-shadow(0px 1px 2px rgba(0, 0, 0, 0.3));\n",
              "      fill: #FFFFFF;\n",
              "    }\n",
              "  </style>\n",
              "\n",
              "    <script>\n",
              "      const buttonEl =\n",
              "        document.querySelector('#df-159d3f7b-5d22-4b5f-9228-5256e26ced17 button.colab-df-convert');\n",
              "      buttonEl.style.display =\n",
              "        google.colab.kernel.accessAllowed ? 'block' : 'none';\n",
              "\n",
              "      async function convertToInteractive(key) {\n",
              "        const element = document.querySelector('#df-159d3f7b-5d22-4b5f-9228-5256e26ced17');\n",
              "        const dataTable =\n",
              "          await google.colab.kernel.invokeFunction('convertToInteractive',\n",
              "                                                    [key], {});\n",
              "        if (!dataTable) return;\n",
              "\n",
              "        const docLinkHtml = 'Like what you see? Visit the ' +\n",
              "          '<a target=\"_blank\" href=https://colab.research.google.com/notebooks/data_table.ipynb>data table notebook</a>'\n",
              "          + ' to learn more about interactive tables.';\n",
              "        element.innerHTML = '';\n",
              "        dataTable['output_type'] = 'display_data';\n",
              "        await google.colab.output.renderOutput(dataTable, element);\n",
              "        const docLink = document.createElement('div');\n",
              "        docLink.innerHTML = docLinkHtml;\n",
              "        element.appendChild(docLink);\n",
              "      }\n",
              "    </script>\n",
              "  </div>\n",
              "\n",
              "\n",
              "<div id=\"df-d59ce6d8-0c7f-4877-a427-f5a2016a0750\">\n",
              "  <button class=\"colab-df-quickchart\" onclick=\"quickchart('df-d59ce6d8-0c7f-4877-a427-f5a2016a0750')\"\n",
              "            title=\"Suggest charts.\"\n",
              "            style=\"display:none;\">\n",
              "\n",
              "<svg xmlns=\"http://www.w3.org/2000/svg\" height=\"24px\"viewBox=\"0 0 24 24\"\n",
              "     width=\"24px\">\n",
              "    <g>\n",
              "        <path d=\"M19 3H5c-1.1 0-2 .9-2 2v14c0 1.1.9 2 2 2h14c1.1 0 2-.9 2-2V5c0-1.1-.9-2-2-2zM9 17H7v-7h2v7zm4 0h-2V7h2v10zm4 0h-2v-4h2v4z\"/>\n",
              "    </g>\n",
              "</svg>\n",
              "  </button>\n",
              "\n",
              "<style>\n",
              "  .colab-df-quickchart {\n",
              "      --bg-color: #E8F0FE;\n",
              "      --fill-color: #1967D2;\n",
              "      --hover-bg-color: #E2EBFA;\n",
              "      --hover-fill-color: #174EA6;\n",
              "      --disabled-fill-color: #AAA;\n",
              "      --disabled-bg-color: #DDD;\n",
              "  }\n",
              "\n",
              "  [theme=dark] .colab-df-quickchart {\n",
              "      --bg-color: #3B4455;\n",
              "      --fill-color: #D2E3FC;\n",
              "      --hover-bg-color: #434B5C;\n",
              "      --hover-fill-color: #FFFFFF;\n",
              "      --disabled-bg-color: #3B4455;\n",
              "      --disabled-fill-color: #666;\n",
              "  }\n",
              "\n",
              "  .colab-df-quickchart {\n",
              "    background-color: var(--bg-color);\n",
              "    border: none;\n",
              "    border-radius: 50%;\n",
              "    cursor: pointer;\n",
              "    display: none;\n",
              "    fill: var(--fill-color);\n",
              "    height: 32px;\n",
              "    padding: 0;\n",
              "    width: 32px;\n",
              "  }\n",
              "\n",
              "  .colab-df-quickchart:hover {\n",
              "    background-color: var(--hover-bg-color);\n",
              "    box-shadow: 0 1px 2px rgba(60, 64, 67, 0.3), 0 1px 3px 1px rgba(60, 64, 67, 0.15);\n",
              "    fill: var(--button-hover-fill-color);\n",
              "  }\n",
              "\n",
              "  .colab-df-quickchart-complete:disabled,\n",
              "  .colab-df-quickchart-complete:disabled:hover {\n",
              "    background-color: var(--disabled-bg-color);\n",
              "    fill: var(--disabled-fill-color);\n",
              "    box-shadow: none;\n",
              "  }\n",
              "\n",
              "  .colab-df-spinner {\n",
              "    border: 2px solid var(--fill-color);\n",
              "    border-color: transparent;\n",
              "    border-bottom-color: var(--fill-color);\n",
              "    animation:\n",
              "      spin 1s steps(1) infinite;\n",
              "  }\n",
              "\n",
              "  @keyframes spin {\n",
              "    0% {\n",
              "      border-color: transparent;\n",
              "      border-bottom-color: var(--fill-color);\n",
              "      border-left-color: var(--fill-color);\n",
              "    }\n",
              "    20% {\n",
              "      border-color: transparent;\n",
              "      border-left-color: var(--fill-color);\n",
              "      border-top-color: var(--fill-color);\n",
              "    }\n",
              "    30% {\n",
              "      border-color: transparent;\n",
              "      border-left-color: var(--fill-color);\n",
              "      border-top-color: var(--fill-color);\n",
              "      border-right-color: var(--fill-color);\n",
              "    }\n",
              "    40% {\n",
              "      border-color: transparent;\n",
              "      border-right-color: var(--fill-color);\n",
              "      border-top-color: var(--fill-color);\n",
              "    }\n",
              "    60% {\n",
              "      border-color: transparent;\n",
              "      border-right-color: var(--fill-color);\n",
              "    }\n",
              "    80% {\n",
              "      border-color: transparent;\n",
              "      border-right-color: var(--fill-color);\n",
              "      border-bottom-color: var(--fill-color);\n",
              "    }\n",
              "    90% {\n",
              "      border-color: transparent;\n",
              "      border-bottom-color: var(--fill-color);\n",
              "    }\n",
              "  }\n",
              "</style>\n",
              "\n",
              "  <script>\n",
              "    async function quickchart(key) {\n",
              "      const quickchartButtonEl =\n",
              "        document.querySelector('#' + key + ' button');\n",
              "      quickchartButtonEl.disabled = true;  // To prevent multiple clicks.\n",
              "      quickchartButtonEl.classList.add('colab-df-spinner');\n",
              "      try {\n",
              "        const charts = await google.colab.kernel.invokeFunction(\n",
              "            'suggestCharts', [key], {});\n",
              "      } catch (error) {\n",
              "        console.error('Error during call to suggestCharts:', error);\n",
              "      }\n",
              "      quickchartButtonEl.classList.remove('colab-df-spinner');\n",
              "      quickchartButtonEl.classList.add('colab-df-quickchart-complete');\n",
              "    }\n",
              "    (() => {\n",
              "      let quickchartButtonEl =\n",
              "        document.querySelector('#df-d59ce6d8-0c7f-4877-a427-f5a2016a0750 button');\n",
              "      quickchartButtonEl.style.display =\n",
              "        google.colab.kernel.accessAllowed ? 'block' : 'none';\n",
              "    })();\n",
              "  </script>\n",
              "</div>\n",
              "    </div>\n",
              "  </div>\n"
            ]
          },
          "metadata": {},
          "execution_count": 42
        }
      ]
    },
    {
      "cell_type": "code",
      "source": [
        "df_misclassified = df_test[(df_test['Prediction']=='False Positive')|(df_test['Prediction']=='False Negative')]['trans_text']\n",
        "\n",
        "from sklearn.feature_extraction.text import TfidfVectorizer\n",
        "\n",
        "vectorizer = TfidfVectorizer()\n",
        "\n",
        "X_misclassified_vec_TFIDF = vectorizer.fit_transform(df_misclassified)\n",
        "\n",
        "words = vectorizer.get_feature_names_out()\n",
        "counts_misclassified_TFIDF = X_misclassified_vec_TFIDF.toarray().sum(axis=0)\n",
        "\n",
        "print(\"\\nTop words in Misclassified Reviews:\")\n",
        "df_words_misclassified_TFIDF = pd.DataFrame({'words':words, 'count':counts_misclassified_TFIDF}, columns=['words', 'count'])\n",
        "print(df_words_misclassified_TFIDF.sort_values(by=['count'], ascending=False).head(10))\n",
        "\n",
        "df_classified = df_test[(df_test['Prediction']=='True Positive')|(df_test['Prediction']=='True Negative')]['trans_text']\n",
        "\n",
        "X_classified_vec_TFIDF = vectorizer.fit_transform(df_classified)\n",
        "\n",
        "words = vectorizer.get_feature_names_out()\n",
        "counts_classified_TFIDF = X_classified_vec_TFIDF.toarray().sum(axis=0)\n",
        "\n",
        "print(\"\\nTop words in Corerctly Classified Reviews:\")\n",
        "df_words_classified_TFIDF = pd.DataFrame({'words':words, 'count':counts_classified_TFIDF}, columns=['words', 'count'])\n",
        "print(df_words_classified_TFIDF.sort_values(by=['count'], ascending=False).head(10))"
      ],
      "metadata": {
        "id": "6ITOdlkKkfCx",
        "outputId": "a5cd2d75-be14-48cc-8a20-21d948dff832",
        "colab": {
          "base_uri": "https://localhost:8080/"
        }
      },
      "execution_count": 81,
      "outputs": [
        {
          "output_type": "stream",
          "name": "stdout",
          "text": [
            "\n",
            "Top words in Misclassified Reviews:\n",
            "     words      count\n",
            "1490   the  15.448518\n",
            "68     and  10.537695\n",
            "1045    of  10.424379\n",
            "799     it   9.556232\n",
            "1525    to   8.958393\n",
            "796     is   8.229143\n",
            "763     in   6.776511\n",
            "97      as   6.607363\n",
            "1489  that   6.441842\n",
            "217    but   6.018962\n",
            "\n",
            "Top words in Corerctly Classified Reviews:\n",
            "     words      count\n",
            "3949   the  54.949332\n",
            "172    and  39.543670\n",
            "2684    of  38.678396\n",
            "4026    to  29.874645\n",
            "2052    is  27.563026\n",
            "2060    it  27.554754\n",
            "1943    in  23.501165\n",
            "3948  that  21.467252\n",
            "243     as  20.832867\n",
            "1481  film  17.881956\n"
          ]
        }
      ]
    },
    {
      "cell_type": "code",
      "source": [
        "vectorizer = TfidfVectorizer(stop_words='english')\n",
        "\n",
        "X_misclassified_vec_TFIDF = vectorizer.fit_transform(df_misclassified)\n",
        "\n",
        "words = vectorizer.get_feature_names_out()\n",
        "counts_misclassified_TFIDF = X_misclassified_vec_TFIDF.toarray().sum(axis=0)\n",
        "\n",
        "print(\"\\nTop words in Misclassified Reviews (without Stop Words):\")\n",
        "df_words_misclassified_TFIDF = pd.DataFrame({'words':words, 'count':counts_misclassified_TFIDF}, columns=['words', 'count'])\n",
        "print(df_words_misclassified_TFIDF.sort_values(by=['count'], ascending=False).head(10))\n",
        "\n",
        "X_classified_vec_TFIDF = vectorizer.fit_transform(df_classified)\n",
        "\n",
        "words = vectorizer.get_feature_names_out()\n",
        "counts_classified_TFIDF = X_classified_vec_TFIDF.toarray().sum(axis=0)\n",
        "\n",
        "print(\"\\nTop words in Corerctly Classified Reviews (without Stop Words):\")\n",
        "df_words_classified_TFIDF = pd.DataFrame({'words':words, 'count':counts_classified_TFIDF}, columns=['words', 'count'])\n",
        "print(df_words_classified_TFIDF.sort_values(by=['count'], ascending=False).head(10))"
      ],
      "metadata": {
        "id": "AgMAkFu7nYQO",
        "outputId": "9b230f7b-1c3a-4272-8429-05efe41f59a8",
        "colab": {
          "base_uri": "https://localhost:8080/"
        }
      },
      "execution_count": 82,
      "outputs": [
        {
          "output_type": "stream",
          "name": "stdout",
          "text": [
            "\n",
            "Top words in Misclassified Reviews (without Stop Words):\n",
            "         words     count\n",
            "886      movie  6.563722\n",
            "503       film  5.646399\n",
            "782       like  3.467425\n",
            "731       just  2.373143\n",
            "718        isn  2.361941\n",
            "1263     story  2.356400\n",
            "373       does  2.073706\n",
            "585       good  1.960232\n",
            "354   director  1.927808\n",
            "547      funny  1.878982\n",
            "\n",
            "Top words in Corerctly Classified Reviews (without Stop Words):\n",
            "           words      count\n",
            "1410        film  20.493065\n",
            "2421       movie  17.332442\n",
            "2143        like  11.412243\n",
            "3574       story   9.808868\n",
            "696       comedy   8.067268\n",
            "1595        good   7.400211\n",
            "4112         way   6.697304\n",
            "1516       funny   6.588486\n",
            "572   characters   6.469566\n",
            "3814        time   6.419135\n"
          ]
        }
      ]
    },
    {
      "cell_type": "markdown",
      "source": [
        "1. Are misclassified reviews more likely to contain specific words or phrases that could indicate confusion or ambiguity?\n",
        "\n",
        "    **Answer**: Understandably, looking at the top words containing stop words, despite producing higher accuracy, resulted to meaningless words ranking high in the list.  So, we looked into removing stop words to understand whether specific words affect the accuracy.  Upon looking at the results above, top 3 words for both correctly and misclassified reviews are the same.  However, top 4th and 5th words in misclassified reviews are not in the top words in correctly classified reviews.  This may show that words that tend to be neutral or does not express strong emotion (e.g. \"just\") may have a higher chance of being misclassified. Contracted words, where \"isn\" could have come from, could also add ambiguity in the sentiment of the reviews."
      ],
      "metadata": {
        "id": "-2-B7fMDomq7"
      }
    },
    {
      "cell_type": "code",
      "source": [
        "df_test[\"Prediction\"].value_counts()"
      ],
      "metadata": {
        "id": "Lfza6v2_IVKI",
        "outputId": "64c0c8f0-c9e2-461e-9a6e-29952dac06d8",
        "colab": {
          "base_uri": "https://localhost:8080/"
        }
      },
      "execution_count": 41,
      "outputs": [
        {
          "output_type": "execute_result",
          "data": {
            "text/plain": [
              "True Negative     431\n",
              "True Positive     420\n",
              "False Negative    113\n",
              "False Positive    102\n",
              "Name: Prediction, dtype: int64"
            ]
          },
          "metadata": {},
          "execution_count": 41
        }
      ]
    },
    {
      "cell_type": "code",
      "source": [
        "df_test.groupby(['Prediction']).mean()"
      ],
      "metadata": {
        "id": "6EQ0N3CjIqjm",
        "outputId": "0afbcb1c-f50f-48c4-9458-21ccf5e4bcca",
        "colab": {
          "base_uri": "https://localhost:8080/",
          "height": 261
        }
      },
      "execution_count": 47,
      "outputs": [
        {
          "output_type": "stream",
          "name": "stderr",
          "text": [
            "<ipython-input-47-35cf115e01d3>:1: FutureWarning: The default value of numeric_only in DataFrameGroupBy.mean is deprecated. In a future version, numeric_only will default to False. Either specify numeric_only or select only columns which should be valid for the function.\n",
            "  df_test.groupby(['Prediction']).mean()\n"
          ]
        },
        {
          "output_type": "execute_result",
          "data": {
            "text/plain": [
              "                label  predicted         len\n",
              "Prediction                                  \n",
              "False Negative    1.0        0.0  118.743363\n",
              "False Positive    0.0        1.0  115.872549\n",
              "True Negative     0.0        0.0  114.990719\n",
              "True Positive     1.0        1.0  115.007143"
            ],
            "text/html": [
              "\n",
              "  <div id=\"df-aa3eebb3-0db9-4df5-ba2e-a3ee46baad04\" class=\"colab-df-container\">\n",
              "    <div>\n",
              "<style scoped>\n",
              "    .dataframe tbody tr th:only-of-type {\n",
              "        vertical-align: middle;\n",
              "    }\n",
              "\n",
              "    .dataframe tbody tr th {\n",
              "        vertical-align: top;\n",
              "    }\n",
              "\n",
              "    .dataframe thead th {\n",
              "        text-align: right;\n",
              "    }\n",
              "</style>\n",
              "<table border=\"1\" class=\"dataframe\">\n",
              "  <thead>\n",
              "    <tr style=\"text-align: right;\">\n",
              "      <th></th>\n",
              "      <th>label</th>\n",
              "      <th>predicted</th>\n",
              "      <th>len</th>\n",
              "    </tr>\n",
              "    <tr>\n",
              "      <th>Prediction</th>\n",
              "      <th></th>\n",
              "      <th></th>\n",
              "      <th></th>\n",
              "    </tr>\n",
              "  </thead>\n",
              "  <tbody>\n",
              "    <tr>\n",
              "      <th>False Negative</th>\n",
              "      <td>1.0</td>\n",
              "      <td>0.0</td>\n",
              "      <td>118.743363</td>\n",
              "    </tr>\n",
              "    <tr>\n",
              "      <th>False Positive</th>\n",
              "      <td>0.0</td>\n",
              "      <td>1.0</td>\n",
              "      <td>115.872549</td>\n",
              "    </tr>\n",
              "    <tr>\n",
              "      <th>True Negative</th>\n",
              "      <td>0.0</td>\n",
              "      <td>0.0</td>\n",
              "      <td>114.990719</td>\n",
              "    </tr>\n",
              "    <tr>\n",
              "      <th>True Positive</th>\n",
              "      <td>1.0</td>\n",
              "      <td>1.0</td>\n",
              "      <td>115.007143</td>\n",
              "    </tr>\n",
              "  </tbody>\n",
              "</table>\n",
              "</div>\n",
              "    <div class=\"colab-df-buttons\">\n",
              "\n",
              "  <div class=\"colab-df-container\">\n",
              "    <button class=\"colab-df-convert\" onclick=\"convertToInteractive('df-aa3eebb3-0db9-4df5-ba2e-a3ee46baad04')\"\n",
              "            title=\"Convert this dataframe to an interactive table.\"\n",
              "            style=\"display:none;\">\n",
              "\n",
              "  <svg xmlns=\"http://www.w3.org/2000/svg\" height=\"24px\" viewBox=\"0 -960 960 960\">\n",
              "    <path d=\"M120-120v-720h720v720H120Zm60-500h600v-160H180v160Zm220 220h160v-160H400v160Zm0 220h160v-160H400v160ZM180-400h160v-160H180v160Zm440 0h160v-160H620v160ZM180-180h160v-160H180v160Zm440 0h160v-160H620v160Z\"/>\n",
              "  </svg>\n",
              "    </button>\n",
              "\n",
              "  <style>\n",
              "    .colab-df-container {\n",
              "      display:flex;\n",
              "      gap: 12px;\n",
              "    }\n",
              "\n",
              "    .colab-df-convert {\n",
              "      background-color: #E8F0FE;\n",
              "      border: none;\n",
              "      border-radius: 50%;\n",
              "      cursor: pointer;\n",
              "      display: none;\n",
              "      fill: #1967D2;\n",
              "      height: 32px;\n",
              "      padding: 0 0 0 0;\n",
              "      width: 32px;\n",
              "    }\n",
              "\n",
              "    .colab-df-convert:hover {\n",
              "      background-color: #E2EBFA;\n",
              "      box-shadow: 0px 1px 2px rgba(60, 64, 67, 0.3), 0px 1px 3px 1px rgba(60, 64, 67, 0.15);\n",
              "      fill: #174EA6;\n",
              "    }\n",
              "\n",
              "    .colab-df-buttons div {\n",
              "      margin-bottom: 4px;\n",
              "    }\n",
              "\n",
              "    [theme=dark] .colab-df-convert {\n",
              "      background-color: #3B4455;\n",
              "      fill: #D2E3FC;\n",
              "    }\n",
              "\n",
              "    [theme=dark] .colab-df-convert:hover {\n",
              "      background-color: #434B5C;\n",
              "      box-shadow: 0px 1px 3px 1px rgba(0, 0, 0, 0.15);\n",
              "      filter: drop-shadow(0px 1px 2px rgba(0, 0, 0, 0.3));\n",
              "      fill: #FFFFFF;\n",
              "    }\n",
              "  </style>\n",
              "\n",
              "    <script>\n",
              "      const buttonEl =\n",
              "        document.querySelector('#df-aa3eebb3-0db9-4df5-ba2e-a3ee46baad04 button.colab-df-convert');\n",
              "      buttonEl.style.display =\n",
              "        google.colab.kernel.accessAllowed ? 'block' : 'none';\n",
              "\n",
              "      async function convertToInteractive(key) {\n",
              "        const element = document.querySelector('#df-aa3eebb3-0db9-4df5-ba2e-a3ee46baad04');\n",
              "        const dataTable =\n",
              "          await google.colab.kernel.invokeFunction('convertToInteractive',\n",
              "                                                    [key], {});\n",
              "        if (!dataTable) return;\n",
              "\n",
              "        const docLinkHtml = 'Like what you see? Visit the ' +\n",
              "          '<a target=\"_blank\" href=https://colab.research.google.com/notebooks/data_table.ipynb>data table notebook</a>'\n",
              "          + ' to learn more about interactive tables.';\n",
              "        element.innerHTML = '';\n",
              "        dataTable['output_type'] = 'display_data';\n",
              "        await google.colab.output.renderOutput(dataTable, element);\n",
              "        const docLink = document.createElement('div');\n",
              "        docLink.innerHTML = docLinkHtml;\n",
              "        element.appendChild(docLink);\n",
              "      }\n",
              "    </script>\n",
              "  </div>\n",
              "\n",
              "\n",
              "<div id=\"df-6ce3b10d-9ffb-47c8-9601-7f32b57de55e\">\n",
              "  <button class=\"colab-df-quickchart\" onclick=\"quickchart('df-6ce3b10d-9ffb-47c8-9601-7f32b57de55e')\"\n",
              "            title=\"Suggest charts.\"\n",
              "            style=\"display:none;\">\n",
              "\n",
              "<svg xmlns=\"http://www.w3.org/2000/svg\" height=\"24px\"viewBox=\"0 0 24 24\"\n",
              "     width=\"24px\">\n",
              "    <g>\n",
              "        <path d=\"M19 3H5c-1.1 0-2 .9-2 2v14c0 1.1.9 2 2 2h14c1.1 0 2-.9 2-2V5c0-1.1-.9-2-2-2zM9 17H7v-7h2v7zm4 0h-2V7h2v10zm4 0h-2v-4h2v4z\"/>\n",
              "    </g>\n",
              "</svg>\n",
              "  </button>\n",
              "\n",
              "<style>\n",
              "  .colab-df-quickchart {\n",
              "      --bg-color: #E8F0FE;\n",
              "      --fill-color: #1967D2;\n",
              "      --hover-bg-color: #E2EBFA;\n",
              "      --hover-fill-color: #174EA6;\n",
              "      --disabled-fill-color: #AAA;\n",
              "      --disabled-bg-color: #DDD;\n",
              "  }\n",
              "\n",
              "  [theme=dark] .colab-df-quickchart {\n",
              "      --bg-color: #3B4455;\n",
              "      --fill-color: #D2E3FC;\n",
              "      --hover-bg-color: #434B5C;\n",
              "      --hover-fill-color: #FFFFFF;\n",
              "      --disabled-bg-color: #3B4455;\n",
              "      --disabled-fill-color: #666;\n",
              "  }\n",
              "\n",
              "  .colab-df-quickchart {\n",
              "    background-color: var(--bg-color);\n",
              "    border: none;\n",
              "    border-radius: 50%;\n",
              "    cursor: pointer;\n",
              "    display: none;\n",
              "    fill: var(--fill-color);\n",
              "    height: 32px;\n",
              "    padding: 0;\n",
              "    width: 32px;\n",
              "  }\n",
              "\n",
              "  .colab-df-quickchart:hover {\n",
              "    background-color: var(--hover-bg-color);\n",
              "    box-shadow: 0 1px 2px rgba(60, 64, 67, 0.3), 0 1px 3px 1px rgba(60, 64, 67, 0.15);\n",
              "    fill: var(--button-hover-fill-color);\n",
              "  }\n",
              "\n",
              "  .colab-df-quickchart-complete:disabled,\n",
              "  .colab-df-quickchart-complete:disabled:hover {\n",
              "    background-color: var(--disabled-bg-color);\n",
              "    fill: var(--disabled-fill-color);\n",
              "    box-shadow: none;\n",
              "  }\n",
              "\n",
              "  .colab-df-spinner {\n",
              "    border: 2px solid var(--fill-color);\n",
              "    border-color: transparent;\n",
              "    border-bottom-color: var(--fill-color);\n",
              "    animation:\n",
              "      spin 1s steps(1) infinite;\n",
              "  }\n",
              "\n",
              "  @keyframes spin {\n",
              "    0% {\n",
              "      border-color: transparent;\n",
              "      border-bottom-color: var(--fill-color);\n",
              "      border-left-color: var(--fill-color);\n",
              "    }\n",
              "    20% {\n",
              "      border-color: transparent;\n",
              "      border-left-color: var(--fill-color);\n",
              "      border-top-color: var(--fill-color);\n",
              "    }\n",
              "    30% {\n",
              "      border-color: transparent;\n",
              "      border-left-color: var(--fill-color);\n",
              "      border-top-color: var(--fill-color);\n",
              "      border-right-color: var(--fill-color);\n",
              "    }\n",
              "    40% {\n",
              "      border-color: transparent;\n",
              "      border-right-color: var(--fill-color);\n",
              "      border-top-color: var(--fill-color);\n",
              "    }\n",
              "    60% {\n",
              "      border-color: transparent;\n",
              "      border-right-color: var(--fill-color);\n",
              "    }\n",
              "    80% {\n",
              "      border-color: transparent;\n",
              "      border-right-color: var(--fill-color);\n",
              "      border-bottom-color: var(--fill-color);\n",
              "    }\n",
              "    90% {\n",
              "      border-color: transparent;\n",
              "      border-bottom-color: var(--fill-color);\n",
              "    }\n",
              "  }\n",
              "</style>\n",
              "\n",
              "  <script>\n",
              "    async function quickchart(key) {\n",
              "      const quickchartButtonEl =\n",
              "        document.querySelector('#' + key + ' button');\n",
              "      quickchartButtonEl.disabled = true;  // To prevent multiple clicks.\n",
              "      quickchartButtonEl.classList.add('colab-df-spinner');\n",
              "      try {\n",
              "        const charts = await google.colab.kernel.invokeFunction(\n",
              "            'suggestCharts', [key], {});\n",
              "      } catch (error) {\n",
              "        console.error('Error during call to suggestCharts:', error);\n",
              "      }\n",
              "      quickchartButtonEl.classList.remove('colab-df-spinner');\n",
              "      quickchartButtonEl.classList.add('colab-df-quickchart-complete');\n",
              "    }\n",
              "    (() => {\n",
              "      let quickchartButtonEl =\n",
              "        document.querySelector('#df-6ce3b10d-9ffb-47c8-9601-7f32b57de55e button');\n",
              "      quickchartButtonEl.style.display =\n",
              "        google.colab.kernel.accessAllowed ? 'block' : 'none';\n",
              "    })();\n",
              "  </script>\n",
              "</div>\n",
              "    </div>\n",
              "  </div>\n"
            ]
          },
          "metadata": {},
          "execution_count": 47
        }
      ]
    },
    {
      "cell_type": "markdown",
      "source": [
        "2. Is there a common length or structure to misclassified reviews, such as unusually short or long ones?\n",
        "\n",
        "    **Answer**: Misclassified reviews are a bit longer in terms of average number of characters (Misclassified reviews = 117 characters; Correctly classified reviews = 115).  Length of the reviews may not be a significant feature affecting accuracy but this can be analyzed differently (e.g. word count instead of character count)"
      ],
      "metadata": {
        "id": "-SO1S5B3bdq3"
      }
    },
    {
      "cell_type": "code",
      "source": [
        "def check_for_words(word, review):\n",
        "  if word in review.split():\n",
        "    return True\n",
        "  else:\n",
        "    return False\n",
        "\n",
        "df_test['check_for_but'] = df_test.apply(lambda row: check_for_words('but', row['trans_text']), axis=1)\n",
        "df_test['check_for_however'] = df_test.apply(lambda row: check_for_words('however', row['trans_text']), axis=1)"
      ],
      "metadata": {
        "id": "KeByQMr0eN09"
      },
      "execution_count": 63,
      "outputs": []
    },
    {
      "cell_type": "code",
      "source": [
        "df_test[['check_for_but','Prediction']].value_counts()"
      ],
      "metadata": {
        "id": "20Wcm2UKe6CY",
        "outputId": "40281057-75d4-4d6b-e39d-acdd75461822",
        "colab": {
          "base_uri": "https://localhost:8080/"
        }
      },
      "execution_count": 61,
      "outputs": [
        {
          "output_type": "execute_result",
          "data": {
            "text/plain": [
              "check_for_but  Prediction    \n",
              "False          True Positive     371\n",
              "               True Negative     369\n",
              "               False Negative     88\n",
              "               False Positive     78\n",
              "True           True Negative      62\n",
              "               True Positive      49\n",
              "               False Negative     25\n",
              "               False Positive     24\n",
              "dtype: int64"
            ]
          },
          "metadata": {},
          "execution_count": 61
        }
      ]
    },
    {
      "cell_type": "code",
      "source": [
        "df_test[['check_for_however','Prediction']].value_counts()"
      ],
      "metadata": {
        "id": "nFTUydSwfyDF",
        "outputId": "490b1308-ead7-42be-d62a-195156ed96e7",
        "colab": {
          "base_uri": "https://localhost:8080/"
        }
      },
      "execution_count": 64,
      "outputs": [
        {
          "output_type": "execute_result",
          "data": {
            "text/plain": [
              "check_for_however  Prediction    \n",
              "False              True Negative     429\n",
              "                   True Positive     419\n",
              "                   False Negative    111\n",
              "                   False Positive    102\n",
              "True               False Negative      2\n",
              "                   True Negative       2\n",
              "                   True Positive       1\n",
              "dtype: int64"
            ]
          },
          "metadata": {},
          "execution_count": 64
        }
      ]
    },
    {
      "cell_type": "markdown",
      "source": [
        "4. Are there any recurring sentiment-related patterns in the misclassified reviews, such as mixed sentiments or sarcasm, that make the model struggle to identify?\n",
        "\n",
        "    **Answer**: Upon scanning of the csv file containing the reviews, it is seen that misclassified reviews contain mixed sentiments using the word \"but\". However, doing a full scan ung the code above, it is shown that even correctly classified reviews contain these words.  We can deduce at this point that most contain mixed reviews and detection of words such as 'but' and 'however' is insufficient.  There needs to be a more scientific approach to analyzing the sentiment of the reviews."
      ],
      "metadata": {
        "id": "47tj7EE5d2XS"
      }
    },
    {
      "cell_type": "code",
      "source": [
        "%%capture\n",
        "!pip install wordfilter\n",
        "from wordfilter import Wordfilter\n",
        "filter = Wordfilter()"
      ],
      "metadata": {
        "id": "7yIqeAgsvUSs"
      },
      "execution_count": 85,
      "outputs": []
    },
    {
      "cell_type": "code",
      "source": [
        "df_test['slang'] = df_test.apply(lambda row: filter.blacklisted(row['trans_text']), axis=1)\n",
        "df_test['slang'].value_counts()"
      ],
      "metadata": {
        "id": "cZ32YFHZvlWG",
        "outputId": "3f6e66f4-ca51-4242-809e-794023c898df",
        "colab": {
          "base_uri": "https://localhost:8080/"
        }
      },
      "execution_count": 86,
      "outputs": [
        {
          "output_type": "execute_result",
          "data": {
            "text/plain": [
              "False    936\n",
              "True     130\n",
              "Name: slang, dtype: int64"
            ]
          },
          "metadata": {},
          "execution_count": 86
        }
      ]
    },
    {
      "cell_type": "code",
      "source": [
        "df_test[['Prediction','slang']].groupby(['Prediction']).sum()"
      ],
      "metadata": {
        "id": "SgABwt9Pv0Wz",
        "outputId": "872f1b0c-208e-44d7-bea9-4b3baca64b7e",
        "colab": {
          "base_uri": "https://localhost:8080/",
          "height": 206
        }
      },
      "execution_count": 90,
      "outputs": [
        {
          "output_type": "execute_result",
          "data": {
            "text/plain": [
              "                slang\n",
              "Prediction           \n",
              "False Negative     11\n",
              "False Positive     15\n",
              "True Negative      57\n",
              "True Positive      47"
            ],
            "text/html": [
              "\n",
              "  <div id=\"df-df592bec-93f5-4e4a-a3a3-d4f311e4d36f\" class=\"colab-df-container\">\n",
              "    <div>\n",
              "<style scoped>\n",
              "    .dataframe tbody tr th:only-of-type {\n",
              "        vertical-align: middle;\n",
              "    }\n",
              "\n",
              "    .dataframe tbody tr th {\n",
              "        vertical-align: top;\n",
              "    }\n",
              "\n",
              "    .dataframe thead th {\n",
              "        text-align: right;\n",
              "    }\n",
              "</style>\n",
              "<table border=\"1\" class=\"dataframe\">\n",
              "  <thead>\n",
              "    <tr style=\"text-align: right;\">\n",
              "      <th></th>\n",
              "      <th>slang</th>\n",
              "    </tr>\n",
              "    <tr>\n",
              "      <th>Prediction</th>\n",
              "      <th></th>\n",
              "    </tr>\n",
              "  </thead>\n",
              "  <tbody>\n",
              "    <tr>\n",
              "      <th>False Negative</th>\n",
              "      <td>11</td>\n",
              "    </tr>\n",
              "    <tr>\n",
              "      <th>False Positive</th>\n",
              "      <td>15</td>\n",
              "    </tr>\n",
              "    <tr>\n",
              "      <th>True Negative</th>\n",
              "      <td>57</td>\n",
              "    </tr>\n",
              "    <tr>\n",
              "      <th>True Positive</th>\n",
              "      <td>47</td>\n",
              "    </tr>\n",
              "  </tbody>\n",
              "</table>\n",
              "</div>\n",
              "    <div class=\"colab-df-buttons\">\n",
              "\n",
              "  <div class=\"colab-df-container\">\n",
              "    <button class=\"colab-df-convert\" onclick=\"convertToInteractive('df-df592bec-93f5-4e4a-a3a3-d4f311e4d36f')\"\n",
              "            title=\"Convert this dataframe to an interactive table.\"\n",
              "            style=\"display:none;\">\n",
              "\n",
              "  <svg xmlns=\"http://www.w3.org/2000/svg\" height=\"24px\" viewBox=\"0 -960 960 960\">\n",
              "    <path d=\"M120-120v-720h720v720H120Zm60-500h600v-160H180v160Zm220 220h160v-160H400v160Zm0 220h160v-160H400v160ZM180-400h160v-160H180v160Zm440 0h160v-160H620v160ZM180-180h160v-160H180v160Zm440 0h160v-160H620v160Z\"/>\n",
              "  </svg>\n",
              "    </button>\n",
              "\n",
              "  <style>\n",
              "    .colab-df-container {\n",
              "      display:flex;\n",
              "      gap: 12px;\n",
              "    }\n",
              "\n",
              "    .colab-df-convert {\n",
              "      background-color: #E8F0FE;\n",
              "      border: none;\n",
              "      border-radius: 50%;\n",
              "      cursor: pointer;\n",
              "      display: none;\n",
              "      fill: #1967D2;\n",
              "      height: 32px;\n",
              "      padding: 0 0 0 0;\n",
              "      width: 32px;\n",
              "    }\n",
              "\n",
              "    .colab-df-convert:hover {\n",
              "      background-color: #E2EBFA;\n",
              "      box-shadow: 0px 1px 2px rgba(60, 64, 67, 0.3), 0px 1px 3px 1px rgba(60, 64, 67, 0.15);\n",
              "      fill: #174EA6;\n",
              "    }\n",
              "\n",
              "    .colab-df-buttons div {\n",
              "      margin-bottom: 4px;\n",
              "    }\n",
              "\n",
              "    [theme=dark] .colab-df-convert {\n",
              "      background-color: #3B4455;\n",
              "      fill: #D2E3FC;\n",
              "    }\n",
              "\n",
              "    [theme=dark] .colab-df-convert:hover {\n",
              "      background-color: #434B5C;\n",
              "      box-shadow: 0px 1px 3px 1px rgba(0, 0, 0, 0.15);\n",
              "      filter: drop-shadow(0px 1px 2px rgba(0, 0, 0, 0.3));\n",
              "      fill: #FFFFFF;\n",
              "    }\n",
              "  </style>\n",
              "\n",
              "    <script>\n",
              "      const buttonEl =\n",
              "        document.querySelector('#df-df592bec-93f5-4e4a-a3a3-d4f311e4d36f button.colab-df-convert');\n",
              "      buttonEl.style.display =\n",
              "        google.colab.kernel.accessAllowed ? 'block' : 'none';\n",
              "\n",
              "      async function convertToInteractive(key) {\n",
              "        const element = document.querySelector('#df-df592bec-93f5-4e4a-a3a3-d4f311e4d36f');\n",
              "        const dataTable =\n",
              "          await google.colab.kernel.invokeFunction('convertToInteractive',\n",
              "                                                    [key], {});\n",
              "        if (!dataTable) return;\n",
              "\n",
              "        const docLinkHtml = 'Like what you see? Visit the ' +\n",
              "          '<a target=\"_blank\" href=https://colab.research.google.com/notebooks/data_table.ipynb>data table notebook</a>'\n",
              "          + ' to learn more about interactive tables.';\n",
              "        element.innerHTML = '';\n",
              "        dataTable['output_type'] = 'display_data';\n",
              "        await google.colab.output.renderOutput(dataTable, element);\n",
              "        const docLink = document.createElement('div');\n",
              "        docLink.innerHTML = docLinkHtml;\n",
              "        element.appendChild(docLink);\n",
              "      }\n",
              "    </script>\n",
              "  </div>\n",
              "\n",
              "\n",
              "<div id=\"df-b10512be-afe8-4e17-9ab6-e5410a8b255f\">\n",
              "  <button class=\"colab-df-quickchart\" onclick=\"quickchart('df-b10512be-afe8-4e17-9ab6-e5410a8b255f')\"\n",
              "            title=\"Suggest charts.\"\n",
              "            style=\"display:none;\">\n",
              "\n",
              "<svg xmlns=\"http://www.w3.org/2000/svg\" height=\"24px\"viewBox=\"0 0 24 24\"\n",
              "     width=\"24px\">\n",
              "    <g>\n",
              "        <path d=\"M19 3H5c-1.1 0-2 .9-2 2v14c0 1.1.9 2 2 2h14c1.1 0 2-.9 2-2V5c0-1.1-.9-2-2-2zM9 17H7v-7h2v7zm4 0h-2V7h2v10zm4 0h-2v-4h2v4z\"/>\n",
              "    </g>\n",
              "</svg>\n",
              "  </button>\n",
              "\n",
              "<style>\n",
              "  .colab-df-quickchart {\n",
              "      --bg-color: #E8F0FE;\n",
              "      --fill-color: #1967D2;\n",
              "      --hover-bg-color: #E2EBFA;\n",
              "      --hover-fill-color: #174EA6;\n",
              "      --disabled-fill-color: #AAA;\n",
              "      --disabled-bg-color: #DDD;\n",
              "  }\n",
              "\n",
              "  [theme=dark] .colab-df-quickchart {\n",
              "      --bg-color: #3B4455;\n",
              "      --fill-color: #D2E3FC;\n",
              "      --hover-bg-color: #434B5C;\n",
              "      --hover-fill-color: #FFFFFF;\n",
              "      --disabled-bg-color: #3B4455;\n",
              "      --disabled-fill-color: #666;\n",
              "  }\n",
              "\n",
              "  .colab-df-quickchart {\n",
              "    background-color: var(--bg-color);\n",
              "    border: none;\n",
              "    border-radius: 50%;\n",
              "    cursor: pointer;\n",
              "    display: none;\n",
              "    fill: var(--fill-color);\n",
              "    height: 32px;\n",
              "    padding: 0;\n",
              "    width: 32px;\n",
              "  }\n",
              "\n",
              "  .colab-df-quickchart:hover {\n",
              "    background-color: var(--hover-bg-color);\n",
              "    box-shadow: 0 1px 2px rgba(60, 64, 67, 0.3), 0 1px 3px 1px rgba(60, 64, 67, 0.15);\n",
              "    fill: var(--button-hover-fill-color);\n",
              "  }\n",
              "\n",
              "  .colab-df-quickchart-complete:disabled,\n",
              "  .colab-df-quickchart-complete:disabled:hover {\n",
              "    background-color: var(--disabled-bg-color);\n",
              "    fill: var(--disabled-fill-color);\n",
              "    box-shadow: none;\n",
              "  }\n",
              "\n",
              "  .colab-df-spinner {\n",
              "    border: 2px solid var(--fill-color);\n",
              "    border-color: transparent;\n",
              "    border-bottom-color: var(--fill-color);\n",
              "    animation:\n",
              "      spin 1s steps(1) infinite;\n",
              "  }\n",
              "\n",
              "  @keyframes spin {\n",
              "    0% {\n",
              "      border-color: transparent;\n",
              "      border-bottom-color: var(--fill-color);\n",
              "      border-left-color: var(--fill-color);\n",
              "    }\n",
              "    20% {\n",
              "      border-color: transparent;\n",
              "      border-left-color: var(--fill-color);\n",
              "      border-top-color: var(--fill-color);\n",
              "    }\n",
              "    30% {\n",
              "      border-color: transparent;\n",
              "      border-left-color: var(--fill-color);\n",
              "      border-top-color: var(--fill-color);\n",
              "      border-right-color: var(--fill-color);\n",
              "    }\n",
              "    40% {\n",
              "      border-color: transparent;\n",
              "      border-right-color: var(--fill-color);\n",
              "      border-top-color: var(--fill-color);\n",
              "    }\n",
              "    60% {\n",
              "      border-color: transparent;\n",
              "      border-right-color: var(--fill-color);\n",
              "    }\n",
              "    80% {\n",
              "      border-color: transparent;\n",
              "      border-right-color: var(--fill-color);\n",
              "      border-bottom-color: var(--fill-color);\n",
              "    }\n",
              "    90% {\n",
              "      border-color: transparent;\n",
              "      border-bottom-color: var(--fill-color);\n",
              "    }\n",
              "  }\n",
              "</style>\n",
              "\n",
              "  <script>\n",
              "    async function quickchart(key) {\n",
              "      const quickchartButtonEl =\n",
              "        document.querySelector('#' + key + ' button');\n",
              "      quickchartButtonEl.disabled = true;  // To prevent multiple clicks.\n",
              "      quickchartButtonEl.classList.add('colab-df-spinner');\n",
              "      try {\n",
              "        const charts = await google.colab.kernel.invokeFunction(\n",
              "            'suggestCharts', [key], {});\n",
              "      } catch (error) {\n",
              "        console.error('Error during call to suggestCharts:', error);\n",
              "      }\n",
              "      quickchartButtonEl.classList.remove('colab-df-spinner');\n",
              "      quickchartButtonEl.classList.add('colab-df-quickchart-complete');\n",
              "    }\n",
              "    (() => {\n",
              "      let quickchartButtonEl =\n",
              "        document.querySelector('#df-b10512be-afe8-4e17-9ab6-e5410a8b255f button');\n",
              "      quickchartButtonEl.style.display =\n",
              "        google.colab.kernel.accessAllowed ? 'block' : 'none';\n",
              "    })();\n",
              "  </script>\n",
              "</div>\n",
              "    </div>\n",
              "  </div>\n"
            ]
          },
          "metadata": {},
          "execution_count": 90
        }
      ]
    },
    {
      "cell_type": "markdown",
      "source": [
        "5. Do reviews that include slang, abbreviations, or informal language have a higher likelihood of being misclassified?\n",
        "\n",
        "    **Answer**: Using the wordfilter module, we determined which reviews contains slang words. Only 130 out of 936 reviews contain slang words.  When looking at correctly classified versus misclassified reviews, we can see that 26 out of 130 reviews with slangs are misclassified.  Therefore, it is inconclusive at this point whether slangs could affect the accuracy of classification.  It was noted earlier (in question # 1) that abbreviations or contractions may be a point of interest.  But both concerns need further investigation to verify their impact on the model's accuracy."
      ],
      "metadata": {
        "id": "W2Y1veyywMki"
      }
    },
    {
      "cell_type": "markdown",
      "source": [
        "## Machine Problem\n",
        "\n",
        "Once you're done with the challenges, head over to UVLE and submit your machine problem."
      ],
      "metadata": {
        "id": "bsrW_BaVbXhL"
      }
    },
    {
      "cell_type": "markdown",
      "source": [
        "# References\n",
        "\n",
        "[AIMA] Russell and Norvig, *Artificial Intelligence: A Modern Approach*, 4th ed, 2020\n",
        "\n",
        "[HML] Géron, *Hands-on Machine Learning with Scikit-Learn*, Keras, and TensorFlow, 2017\n",
        "\n",
        "[PRML] Bishop, *Pattern Recognition and Machine Learning*, 2006"
      ],
      "metadata": {
        "id": "q3oeqczSjZaW"
      }
    }
  ]
}